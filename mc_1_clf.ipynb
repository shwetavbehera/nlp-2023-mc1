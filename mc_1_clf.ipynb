{
  "cells": [
    {
      "cell_type": "code",
      "execution_count": 3,
      "metadata": {
        "colab": {
          "base_uri": "https://localhost:8080/"
        },
        "id": "Lm03KSna8MHG",
        "outputId": "97fa3b16-8734-4ba3-cfbd-9681dbb78014"
      },
      "outputs": [
        {
          "output_type": "stream",
          "name": "stdout",
          "text": [
            "Looking in indexes: https://pypi.org/simple, https://us-python.pkg.dev/colab-wheels/public/simple/\n",
            "Requirement already satisfied: datasets in /usr/local/lib/python3.10/dist-packages (2.13.1)\n",
            "Requirement already satisfied: numpy>=1.17 in /usr/local/lib/python3.10/dist-packages (from datasets) (1.22.4)\n",
            "Requirement already satisfied: pyarrow>=8.0.0 in /usr/local/lib/python3.10/dist-packages (from datasets) (9.0.0)\n",
            "Requirement already satisfied: dill<0.3.7,>=0.3.0 in /usr/local/lib/python3.10/dist-packages (from datasets) (0.3.6)\n",
            "Requirement already satisfied: pandas in /usr/local/lib/python3.10/dist-packages (from datasets) (1.5.3)\n",
            "Requirement already satisfied: requests>=2.19.0 in /usr/local/lib/python3.10/dist-packages (from datasets) (2.27.1)\n",
            "Requirement already satisfied: tqdm>=4.62.1 in /usr/local/lib/python3.10/dist-packages (from datasets) (4.65.0)\n",
            "Requirement already satisfied: xxhash in /usr/local/lib/python3.10/dist-packages (from datasets) (3.2.0)\n",
            "Requirement already satisfied: multiprocess in /usr/local/lib/python3.10/dist-packages (from datasets) (0.70.14)\n",
            "Requirement already satisfied: fsspec[http]>=2021.11.1 in /usr/local/lib/python3.10/dist-packages (from datasets) (2023.4.0)\n",
            "Requirement already satisfied: aiohttp in /usr/local/lib/python3.10/dist-packages (from datasets) (3.8.4)\n",
            "Requirement already satisfied: huggingface-hub<1.0.0,>=0.11.0 in /usr/local/lib/python3.10/dist-packages (from datasets) (0.15.1)\n",
            "Requirement already satisfied: packaging in /usr/local/lib/python3.10/dist-packages (from datasets) (23.1)\n",
            "Requirement already satisfied: pyyaml>=5.1 in /usr/local/lib/python3.10/dist-packages (from datasets) (6.0)\n",
            "Requirement already satisfied: attrs>=17.3.0 in /usr/local/lib/python3.10/dist-packages (from aiohttp->datasets) (23.1.0)\n",
            "Requirement already satisfied: charset-normalizer<4.0,>=2.0 in /usr/local/lib/python3.10/dist-packages (from aiohttp->datasets) (2.0.12)\n",
            "Requirement already satisfied: multidict<7.0,>=4.5 in /usr/local/lib/python3.10/dist-packages (from aiohttp->datasets) (6.0.4)\n",
            "Requirement already satisfied: async-timeout<5.0,>=4.0.0a3 in /usr/local/lib/python3.10/dist-packages (from aiohttp->datasets) (4.0.2)\n",
            "Requirement already satisfied: yarl<2.0,>=1.0 in /usr/local/lib/python3.10/dist-packages (from aiohttp->datasets) (1.9.2)\n",
            "Requirement already satisfied: frozenlist>=1.1.1 in /usr/local/lib/python3.10/dist-packages (from aiohttp->datasets) (1.3.3)\n",
            "Requirement already satisfied: aiosignal>=1.1.2 in /usr/local/lib/python3.10/dist-packages (from aiohttp->datasets) (1.3.1)\n",
            "Requirement already satisfied: filelock in /usr/local/lib/python3.10/dist-packages (from huggingface-hub<1.0.0,>=0.11.0->datasets) (3.12.0)\n",
            "Requirement already satisfied: typing-extensions>=3.7.4.3 in /usr/local/lib/python3.10/dist-packages (from huggingface-hub<1.0.0,>=0.11.0->datasets) (4.5.0)\n",
            "Requirement already satisfied: urllib3<1.27,>=1.21.1 in /usr/local/lib/python3.10/dist-packages (from requests>=2.19.0->datasets) (1.26.15)\n",
            "Requirement already satisfied: certifi>=2017.4.17 in /usr/local/lib/python3.10/dist-packages (from requests>=2.19.0->datasets) (2022.12.7)\n",
            "Requirement already satisfied: idna<4,>=2.5 in /usr/local/lib/python3.10/dist-packages (from requests>=2.19.0->datasets) (3.4)\n",
            "Requirement already satisfied: python-dateutil>=2.8.1 in /usr/local/lib/python3.10/dist-packages (from pandas->datasets) (2.8.2)\n",
            "Requirement already satisfied: pytz>=2020.1 in /usr/local/lib/python3.10/dist-packages (from pandas->datasets) (2022.7.1)\n",
            "Requirement already satisfied: six>=1.5 in /usr/local/lib/python3.10/dist-packages (from python-dateutil>=2.8.1->pandas->datasets) (1.16.0)\n"
          ]
        }
      ],
      "source": [
        "!pip install datasets"
      ]
    },
    {
      "cell_type": "code",
      "execution_count": 4,
      "metadata": {
        "colab": {
          "base_uri": "https://localhost:8080/",
          "height": 145,
          "referenced_widgets": [
            "24df1d9bc2a44ae7a851769ea1f469b8",
            "117758f1020c45a09f9680e885173745",
            "76d564be67714b909065c6884ed0ddaf",
            "f7b33536524341819bbc7739be707dc2",
            "6f76142e67b44eb49cc00a501ba4a4a2",
            "ea77cbd8812844fbaf8c2c73354413d9",
            "6b7f1afdc4814f6fbf071f7028358769",
            "a554dd4853774941bec4c934f5e40ee2",
            "0fc4b3220cf74d279cc93db9bfb6b4a0",
            "3337035f14d04f6287319a796a436bbd",
            "4debc21fcb97486b9ec37b3e914efce3",
            "aef21320034c4218ba6ddb6da144008f",
            "6823f329773241e5853178dde8fed436",
            "d81237c366e3407f8687a60f1d876ede",
            "1b75f218804b4a6a9b71b4ccf427a1de",
            "57c993afa52848568e72b03ab6d3b585",
            "9cbe6dd4b07549df9d2853f5d2d8cd57",
            "dd4654e5d55f45f5927451302c592efd",
            "c3db97b17d424032b57e0d9d5d610a8e",
            "603fded16a114124a7123d12c4a01ee6",
            "0ed3bd998c954b7898e6f522632e3115",
            "cee6cd827b864fedbc6d904403a334ca",
            "baebb53953144709975f5108bd395001",
            "56ac628360d149a5887d8b56b8397836",
            "03988954f14248ca9203d64f1fc84e24",
            "1f27891efc6d43329c9930779751e313",
            "2f725788687d4064b14a3b524a8dd0c1",
            "e8f561208c36476cb56e03cc81580b0a",
            "27532ee5bde34fb9ac3b85ed6d671750",
            "40da692ed2c540e28458cd70b995fcb7",
            "2b1adea6dcd34217a671baad44ad761e",
            "66f78e7c7992422aa14e4f73f2853506"
          ]
        },
        "id": "_Xrf5J168MHN",
        "outputId": "da98d9c5-d79e-4c7f-c0d2-59558c750188"
      },
      "outputs": [
        {
          "output_type": "display_data",
          "data": {
            "text/plain": [
              "VBox(children=(HTML(value='<center> <img\\nsrc=https://huggingface.co/front/assets/huggingface_logo-noborder.sv…"
            ],
            "application/vnd.jupyter.widget-view+json": {
              "version_major": 2,
              "version_minor": 0,
              "model_id": "24df1d9bc2a44ae7a851769ea1f469b8"
            }
          },
          "metadata": {}
        }
      ],
      "source": [
        "from datasets import load_dataset, load_metric\n",
        "\n",
        "from huggingface_hub import notebook_login\n",
        "\n",
        "notebook_login()"
      ]
    },
    {
      "cell_type": "code",
      "execution_count": 5,
      "metadata": {
        "colab": {
          "base_uri": "https://localhost:8080/",
          "height": 86,
          "referenced_widgets": [
            "c0b878840f42426391cd4b01542c96ba",
            "8b41b6ce321b4c8bb6fff56a8d1e3d87",
            "5c6ee7e56c104a0d921639178b59deb5",
            "f2a13bb9215f452093bca2b63926233d",
            "a8ecd871daf6448d811ce82dbefcbb82",
            "d5c55c19e16e487c8c9bf8aa93bdda2f",
            "2979899356ab41b7a62523329d12eba9",
            "7d5a4e5e6289453b85d09a4223793157",
            "c1afba94b48b4ad2ae8dd70719fb42b8",
            "c9601ac169da4d808a18a3fd167eaadb",
            "4158fa7061fe4139824f66e007103959"
          ]
        },
        "id": "7VPML7Z_8MHO",
        "outputId": "ef7fa290-ae1a-4b67-c843-0231f022aaa9"
      },
      "outputs": [
        {
          "output_type": "stream",
          "name": "stderr",
          "text": [
            "WARNING:datasets.builder:Found cached dataset tweet_eval (/root/.cache/huggingface/datasets/tweet_eval/sentiment/1.1.0/12aee5282b8784f3e95459466db4cdf45c6bf49719c25cdb0743d71ed0410343)\n"
          ]
        },
        {
          "output_type": "display_data",
          "data": {
            "text/plain": [
              "  0%|          | 0/3 [00:00<?, ?it/s]"
            ],
            "application/vnd.jupyter.widget-view+json": {
              "version_major": 2,
              "version_minor": 0,
              "model_id": "c0b878840f42426391cd4b01542c96ba"
            }
          },
          "metadata": {}
        }
      ],
      "source": [
        "datasets = load_dataset(\"tweet_eval\", \"sentiment\")"
      ]
    },
    {
      "cell_type": "code",
      "execution_count": 6,
      "metadata": {
        "colab": {
          "base_uri": "https://localhost:8080/"
        },
        "id": "e_zsy1Wh8MHO",
        "outputId": "9de17a0d-ca31-41f0-a524-3a15d1111902"
      },
      "outputs": [
        {
          "output_type": "execute_result",
          "data": {
            "text/plain": [
              "DatasetDict({\n",
              "    train: Dataset({\n",
              "        features: ['text', 'label'],\n",
              "        num_rows: 45615\n",
              "    })\n",
              "    test: Dataset({\n",
              "        features: ['text', 'label'],\n",
              "        num_rows: 12284\n",
              "    })\n",
              "    validation: Dataset({\n",
              "        features: ['text', 'label'],\n",
              "        num_rows: 2000\n",
              "    })\n",
              "})"
            ]
          },
          "metadata": {},
          "execution_count": 6
        }
      ],
      "source": [
        "datasets"
      ]
    },
    {
      "cell_type": "code",
      "execution_count": null,
      "metadata": {
        "id": "jAvfMYMf8MHP",
        "outputId": "9ac27d1d-4153-43dd-9f89-fc8fbae35699"
      },
      "outputs": [
        {
          "name": "stdout",
          "output_type": "stream",
          "text": [
            "['\"QT @user In the original draft of the 7th book, Remus Lupin survived the Battle of Hogwarts. #HappyBirthdayRemusLupin\"', '\"Ben Smith / Smith (concussion) remains out of the lineup Thursday, Curtis #NHL #SJ\"', 'Sorry bout the stream last night I crashed out but will be on tonight for sure. Then back to Minecraft in pc tomorrow night.', \"Chase Headley's RBI double in the 8th inning off David Price snapped a Yankees streak of 33 consecutive scoreless innings against Blue Jays\", '@user Alciato: Bee will invest 150 million in January, another 200 in the Summer and plans to bring Messi by 2017\"']\n",
            "[2, 1, 1, 1, 2]\n"
          ]
        }
      ],
      "source": [
        "print(datasets[\"train\"][\"text\"][:5])\n",
        "print(datasets[\"train\"][\"label\"][:5])"
      ]
    },
    {
      "cell_type": "markdown",
      "metadata": {
        "id": "Q8dhmFK08MHP"
      },
      "source": [
        "## Vectorize"
      ]
    },
    {
      "cell_type": "code",
      "execution_count": 7,
      "metadata": {
        "colab": {
          "base_uri": "https://localhost:8080/"
        },
        "id": "6khaCqIl8MHQ",
        "outputId": "6ad93c8e-1f52-4ed0-f269-05890274dc3d"
      },
      "outputs": [
        {
          "output_type": "stream",
          "name": "stdout",
          "text": [
            "(45615, 43358) (12284, 43358)\n"
          ]
        }
      ],
      "source": [
        "from sklearn.feature_extraction.text import TfidfVectorizer\n",
        "vectorizer = TfidfVectorizer()\n",
        "vectors_train = vectorizer.fit_transform(datasets[\"train\"][\"text\"])\n",
        "vectors_test = vectorizer.transform(datasets[\"test\"][\"text\"])\n",
        "print(vectors_train.shape, vectors_test.shape)"
      ]
    },
    {
      "cell_type": "markdown",
      "metadata": {
        "id": "Xm6VSqWC8MHR"
      },
      "source": [
        "Here we see the tupple (num__documents, num_features)\n",
        "- num__documents represent the number of documents available in that dataset, in our case number of tweets\n",
        "- num_features represent the number of unique words in the vocabulary learned by the vectorizer, in our case 43358 unique words are in the vocabulary"
      ]
    },
    {
      "cell_type": "markdown",
      "metadata": {
        "id": "p6ra00Md8MHS"
      },
      "source": [
        "Lets analyze the vocabulary for each label."
      ]
    },
    {
      "cell_type": "code",
      "execution_count": null,
      "metadata": {
        "id": "3vBeureC8MHS",
        "outputId": "ff4f45c8-6e50-412b-ef49-666f69c13807"
      },
      "outputs": [
        {
          "name": "stderr",
          "output_type": "stream",
          "text": [
            "c:\\Users\\shwet\\anaconda3\\lib\\site-packages\\sklearn\\utils\\deprecation.py:87: FutureWarning: Function get_feature_names is deprecated; get_feature_names is deprecated in 1.0 and will be removed in 1.2. Please use get_feature_names_out instead.\n",
            "  warnings.warn(msg, category=FutureWarning)\n"
          ]
        },
        {
          "name": "stdout",
          "output_type": "stream",
          "text": [
            "Top 5 words for label 0:\n",
            "['and', 'is', 'user', 'to', 'the']\n",
            "\n",
            "Top 5 words for label 1:\n",
            "['on', 'in', 'user', 'to', 'the']\n",
            "\n",
            "Top 5 words for label 2:\n",
            "['on', 'and', 'user', 'to', 'the']\n",
            "\n"
          ]
        }
      ],
      "source": [
        "import numpy as np\n",
        "# Get the feature names (words) from the vocabulary\n",
        "feature_names = vectorizer.get_feature_names()\n",
        "\n",
        "# Define labels and their associated documents\n",
        "labels = [0, 1, 2]  # Labels: 0 = negative, 1 = neutral, 2 = positive\n",
        "documents_by_label = {label: [] for label in labels}\n",
        "for text, label in zip(datasets[\"train\"][\"text\"], datasets[\"train\"][\"label\"]):\n",
        "    documents_by_label[label].append(text)\n",
        "\n",
        "# Print the top scored words for each label\n",
        "num_top_words = 5  # Number of top words to print\n",
        "for label in labels:\n",
        "    print(f\"Top {num_top_words} words for label {label}:\")\n",
        "    label_vectors = vectors_train[np.array(datasets[\"train\"][\"label\"]) == label]\n",
        "    label_indices = np.argsort(label_vectors.toarray().sum(axis=0))[-num_top_words:]\n",
        "    top_words = [feature_names[idx] for idx in label_indices]\n",
        "    print(top_words)\n",
        "    print()"
      ]
    },
    {
      "cell_type": "code",
      "execution_count": null,
      "metadata": {
        "id": "rgYV9dSp8MHT",
        "outputId": "33aafeb8-e659-410d-c444-b966aedf78bd"
      },
      "outputs": [
        {
          "name": "stdout",
          "output_type": "stream",
          "text": [
            "00\n",
            "000\n",
            "0001\n",
            "000758\n",
            "000th\n",
            "001\n",
            "0048\n",
            "007\n",
            "00am\n",
            "00end\n",
            "00p\n",
            "00pm\n",
            "01\n",
            "0118704263\n",
            "01253625262\n",
            "01792\n",
            "01924\n",
            "01937\n",
            "01943\n",
            "01pm\n"
          ]
        }
      ],
      "source": [
        "print(\"\\n\".join(vectorizer.get_feature_names()[:20]))"
      ]
    },
    {
      "cell_type": "markdown",
      "metadata": {
        "id": "qKLPk9Eb8MHT"
      },
      "source": [
        "##  Vectorize test and classify"
      ]
    },
    {
      "cell_type": "code",
      "execution_count": 5,
      "metadata": {
        "id": "wJptpuiM8MHU"
      },
      "outputs": [],
      "source": [
        "import numpy as np\n",
        "import seaborn as sns\n",
        "import matplotlib.pyplot as plt"
      ]
    },
    {
      "cell_type": "code",
      "execution_count": 8,
      "metadata": {
        "colab": {
          "base_uri": "https://localhost:8080/"
        },
        "id": "XjD0dJ_V8MHU",
        "outputId": "568ab726-49d4-46ba-8b46-bb510319bc05"
      },
      "outputs": [
        {
          "output_type": "stream",
          "name": "stdout",
          "text": [
            "0.5305923702116752 0.5584500162813416\n",
            "[[1436 2187  349]\n",
            " [ 724 4136 1077]\n",
            " [  89  998 1288]]\n"
          ]
        }
      ],
      "source": [
        "from sklearn.naive_bayes import MultinomialNB\n",
        "from sklearn import metrics\n",
        "\n",
        "def classify(model):\n",
        "     clf = model\n",
        "     clf.fit(vectors_train, datasets[\"train\"][\"label\"])\n",
        "     pred = clf.predict(vectors_test)\n",
        "     print(metrics.f1_score(datasets[\"test\"][\"label\"], pred, average='macro'),\n",
        "          metrics.accuracy_score(datasets[\"test\"][\"label\"], pred))\n",
        "     cm = metrics.confusion_matrix(datasets[\"test\"][\"label\"], pred)\n",
        "     print (cm)\n",
        "\n",
        "     return clf, pred, cm\n",
        "\n",
        "nb, pred, cm = classify(MultinomialNB(alpha=0.1))"
      ]
    },
    {
      "cell_type": "code",
      "execution_count": 8,
      "metadata": {
        "colab": {
          "base_uri": "https://localhost:8080/",
          "height": 472
        },
        "id": "iOih3_3T8MHU",
        "outputId": "dd4013fb-f3ce-467d-eaa3-770abfeb2467"
      },
      "outputs": [
        {
          "output_type": "display_data",
          "data": {
            "text/plain": [
              "<Figure size 640x480 with 2 Axes>"
            ],
            "image/png": "[encoded data removed]"
          },
          "metadata": {}
        }
      ],
      "source": [
        "sns.heatmap(cm, annot=True, fmt='d', cmap='Blues')\n",
        "\n",
        "# Set plot labels\n",
        "plt.xlabel('Predicted')\n",
        "plt.ylabel('Actual')\n",
        "plt.title('Confusion Matrix')\n",
        "\n",
        "# Display the plot\n",
        "plt.show()"
      ]
    },
    {
      "cell_type": "code",
      "execution_count": 21,
      "metadata": {
        "id": "DiRqUE6q8MHU"
      },
      "outputs": [],
      "source": [
        "import numpy as np\n",
        "import random\n",
        "from IPython.display import display\n",
        "\n",
        "# Gather misclassified samples\n",
        "def get_misclassified_samples(y_pred, y):\n",
        "    misclassified_samples = []\n",
        "\n",
        "    for i in range(len(y_pred)):\n",
        "        if y_pred[i] != y[i]:\n",
        "\n",
        "            # Append tupple of index of error, predicted and real values\n",
        "            misclassified_samples.append((i, y_pred[i], y[i]))\n",
        "\n",
        "    return misclassified_samples\n",
        "\n",
        "def get_random_samples(data, number):\n",
        "    random_elements_list = []\n",
        "    random_elements = random.sample(data, number)\n",
        "    for element in random_elements:\n",
        "        random_elements_list.append(element)\n",
        "\n",
        "    return random_elements_list\n",
        "\n",
        "\n",
        "\n",
        "label_translator = {\n",
        "    0: \"negative\",\n",
        "    1: \"neutral\",\n",
        "    2: \"positive\",\n",
        "}\n",
        "\n",
        "def print_error(index, pred):\n",
        "    display(datasets[\"test\"][\"text\"][index])\n",
        "    print(f\"index: {index}\")\n",
        "    print(f\"predicted value: {label_translator[pred[index]]}\")\n",
        "    print(f\"real value: {label_translator[datasets['test']['label'][index]]}\\n\")"
      ]
    },
    {
      "cell_type": "code",
      "execution_count": 10,
      "metadata": {
        "colab": {
          "base_uri": "https://localhost:8080/"
        },
        "id": "gzL2WhzD8MHV",
        "outputId": "74a63126-ac46-478a-a754-e0748119d77f"
      },
      "outputs": [
        {
          "output_type": "execute_result",
          "data": {
            "text/plain": [
              "7125"
            ]
          },
          "metadata": {},
          "execution_count": 10
        }
      ],
      "source": [
        "misclassified_samples = get_misclassified_samples(pred, datasets[\"test\"][\"label\"])\n",
        "random_missclassified_samples = get_random_samples(misclassified_samples, 20)\n",
        "random_missclassified_samples[0][0]"
      ]
    },
    {
      "cell_type": "code",
      "execution_count": null,
      "metadata": {
        "id": "w4H8Si3z8MHV",
        "outputId": "462d290a-d9d7-438d-8fca-0f6b80bee9a1"
      },
      "outputs": [
        {
          "data": {
            "text/plain": [
              "'By 2025, #robotics and #drones, together, could replace 1/3 of the current global #workforce. #robots @user'"
            ]
          },
          "metadata": {},
          "output_type": "display_data"
        },
        {
          "name": "stdout",
          "output_type": "stream",
          "text": [
            "index: 8791\n",
            "predicted value: negative\n",
            "real value: neutral\n",
            "\n"
          ]
        },
        {
          "data": {
            "text/plain": [
              "'@user @user @user I can c his point anti trump people may start small riots around the country FBI should b the ones'"
            ]
          },
          "metadata": {},
          "output_type": "display_data"
        },
        {
          "name": "stdout",
          "output_type": "stream",
          "text": [
            "index: 9888\n",
            "predicted value: neutral\n",
            "real value: negative\n",
            "\n"
          ]
        },
        {
          "data": {
            "text/plain": [
              "'FastBigBowie& PunchAction NotQuickest #HAMAS BegsToBeDestroyedSameAs #ISIS VIVA! Samson! #Israel #IStandWithIsrael !'"
            ]
          },
          "metadata": {},
          "output_type": "display_data"
        },
        {
          "name": "stdout",
          "output_type": "stream",
          "text": [
            "index: 9685\n",
            "predicted value: negative\n",
            "real value: neutral\n",
            "\n"
          ]
        },
        {
          "data": {
            "text/plain": [
              "\"@user Nah, she's cool. Repeal won't kick in before summer, when she's old enough for Medicare. Oh, wait...\""
            ]
          },
          "metadata": {},
          "output_type": "display_data"
        },
        {
          "name": "stdout",
          "output_type": "stream",
          "text": [
            "index: 12220\n",
            "predicted value: positive\n",
            "real value: neutral\n",
            "\n"
          ]
        },
        {
          "data": {
            "text/plain": [
              "\"#TrumpTransitionTeam It's not a government, it's a movement #RightWingRevolution #Fascism\""
            ]
          },
          "metadata": {},
          "output_type": "display_data"
        },
        {
          "name": "stdout",
          "output_type": "stream",
          "text": [
            "index: 5589\n",
            "predicted value: neutral\n",
            "real value: negative\n",
            "\n"
          ]
        },
        {
          "data": {
            "text/plain": [
              "'You should b ashamed JILL STEIN, u are in the tank w George Soros & Hillary Clinton, go to hell..'"
            ]
          },
          "metadata": {},
          "output_type": "display_data"
        },
        {
          "name": "stdout",
          "output_type": "stream",
          "text": [
            "index: 3251\n",
            "predicted value: neutral\n",
            "real value: negative\n",
            "\n"
          ]
        },
        {
          "data": {
            "text/plain": [
              "\"Thx 4 Folow'ng @user This from #Jerusalem - a #contemporary take on prayer beads #art #culture…\""
            ]
          },
          "metadata": {},
          "output_type": "display_data"
        },
        {
          "name": "stdout",
          "output_type": "stream",
          "text": [
            "index: 8298\n",
            "predicted value: neutral\n",
            "real value: positive\n",
            "\n"
          ]
        },
        {
          "data": {
            "text/plain": [
              "\"Luke Kennard done turned into our best player. He's having that last season Grayson Allen breakout\""
            ]
          },
          "metadata": {},
          "output_type": "display_data"
        },
        {
          "name": "stdout",
          "output_type": "stream",
          "text": [
            "index: 2683\n",
            "predicted value: neutral\n",
            "real value: positive\n",
            "\n"
          ]
        },
        {
          "data": {
            "text/plain": [
              "'Leo Messi delivered 59 completed passes in Glsagow. More stats like this here: #FCBlive'"
            ]
          },
          "metadata": {},
          "output_type": "display_data"
        },
        {
          "name": "stdout",
          "output_type": "stream",
          "text": [
            "index: 8202\n",
            "predicted value: positive\n",
            "real value: neutral\n",
            "\n"
          ]
        },
        {
          "data": {
            "text/plain": [
              "'When will #Amerikkka wake up ?Before their#SocialSecurity#Medicare#Medicaid#AbortionRightsare tossed asideby the #Trumpand the #GOP'"
            ]
          },
          "metadata": {},
          "output_type": "display_data"
        },
        {
          "name": "stdout",
          "output_type": "stream",
          "text": [
            "index: 4275\n",
            "predicted value: neutral\n",
            "real value: negative\n",
            "\n"
          ]
        },
        {
          "data": {
            "text/plain": [
              "'5 Incidents of How Zac Efron Is Inspirational'"
            ]
          },
          "metadata": {},
          "output_type": "display_data"
        },
        {
          "name": "stdout",
          "output_type": "stream",
          "text": [
            "index: 12094\n",
            "predicted value: negative\n",
            "real value: neutral\n",
            "\n"
          ]
        },
        {
          "data": {
            "text/plain": [
              "\"I'd believe more in self-driving cars if there were a single Map program that didn't frequently catastrophically malfunction\""
            ]
          },
          "metadata": {},
          "output_type": "display_data"
        },
        {
          "name": "stdout",
          "output_type": "stream",
          "text": [
            "index: 7961\n",
            "predicted value: positive\n",
            "real value: negative\n",
            "\n"
          ]
        },
        {
          "data": {
            "text/plain": [
              "\"Bullet for my valentines on the mix, it's good to be back, damn.\""
            ]
          },
          "metadata": {},
          "output_type": "display_data"
        },
        {
          "name": "stdout",
          "output_type": "stream",
          "text": [
            "index: 1551\n",
            "predicted value: neutral\n",
            "real value: positive\n",
            "\n"
          ]
        },
        {
          "data": {
            "text/plain": [
              "'Cannabis For Kids: The Children Behind The Debate (FULL DOCUMENTARY)'"
            ]
          },
          "metadata": {},
          "output_type": "display_data"
        },
        {
          "name": "stdout",
          "output_type": "stream",
          "text": [
            "index: 7980\n",
            "predicted value: positive\n",
            "real value: neutral\n",
            "\n"
          ]
        },
        {
          "data": {
            "text/plain": [
              "'Im glad that gay marriage is now legal, just have to figure out how to force chance the rapper to marry me!!'"
            ]
          },
          "metadata": {},
          "output_type": "display_data"
        },
        {
          "name": "stdout",
          "output_type": "stream",
          "text": [
            "index: 3442\n",
            "predicted value: neutral\n",
            "real value: positive\n",
            "\n"
          ]
        },
        {
          "data": {
            "text/plain": [
              "\"@user @user take care of that lil illegal immigration problem too.  They'll stay home/they'll go home.   jobs will do that.\""
            ]
          },
          "metadata": {},
          "output_type": "display_data"
        },
        {
          "name": "stdout",
          "output_type": "stream",
          "text": [
            "index: 6102\n",
            "predicted value: neutral\n",
            "real value: negative\n",
            "\n"
          ]
        },
        {
          "data": {
            "text/plain": [
              "'#Facebook gives #Hamas bandit the boot; Shuts their accounts down'"
            ]
          },
          "metadata": {},
          "output_type": "display_data"
        },
        {
          "name": "stdout",
          "output_type": "stream",
          "text": [
            "index: 2088\n",
            "predicted value: neutral\n",
            "real value: negative\n",
            "\n"
          ]
        },
        {
          "data": {
            "text/plain": [
              "\"What is life lol what are we 💀😂 UFO's steal our cows bc they like beef to 😂 f vegetarianism that's what's the aliens want you to be 👽😂\""
            ]
          },
          "metadata": {},
          "output_type": "display_data"
        },
        {
          "name": "stdout",
          "output_type": "stream",
          "text": [
            "index: 6482\n",
            "predicted value: neutral\n",
            "real value: negative\n",
            "\n"
          ]
        },
        {
          "data": {
            "text/plain": [
              "\"@user If the popular vote counted at all we wouldn't be having this conversation. Trump won. He's a jerk, but he did win.\""
            ]
          },
          "metadata": {},
          "output_type": "display_data"
        },
        {
          "name": "stdout",
          "output_type": "stream",
          "text": [
            "index: 792\n",
            "predicted value: positive\n",
            "real value: neutral\n",
            "\n"
          ]
        },
        {
          "data": {
            "text/plain": [
              "'When watching a David Blaine special, @user and dorrajarrod attempt to make magic'"
            ]
          },
          "metadata": {},
          "output_type": "display_data"
        },
        {
          "name": "stdout",
          "output_type": "stream",
          "text": [
            "index: 7710\n",
            "predicted value: neutral\n",
            "real value: positive\n",
            "\n"
          ]
        }
      ],
      "source": [
        "for i in range(len(random_missclassified_samples)):\n",
        "    print_error(random_missclassified_samples[i][0])"
      ]
    },
    {
      "cell_type": "markdown",
      "metadata": {
        "id": "JQpX-Ur78MHV"
      },
      "source": [
        "Since Naive Bayes is a simple and efficient classifier, it may not capture complex relationships between features. That is why we procceed with another classifier."
      ]
    },
    {
      "cell_type": "markdown",
      "metadata": {
        "id": "MnxrZ49d8MHV"
      },
      "source": [
        "## SVM"
      ]
    },
    {
      "cell_type": "code",
      "source": [
        "from sklearn import metrics\n",
        "from sklearn.svm import LinearSVC\n",
        "svm_classifier = LinearSVC()\n",
        "\n",
        "svm_classifier.fit(vectors_train, datasets[\"train\"][\"label\"])\n",
        "svm_predictions = svm_classifier.predict(vectors_test)\n",
        "f1_score = metrics.f1_score(datasets[\"test\"][\"label\"], svm_predictions, average='macro')\n",
        "accuracy = metrics.accuracy_score(datasets[\"test\"][\"label\"], svm_predictions)\n",
        "confusion_matrix = metrics.confusion_matrix(datasets[\"test\"][\"label\"], svm_predictions)\n",
        "\n",
        "# Print evaluation metrics and confusion matrix\n",
        "print(\"F1 Score:\", f1_score)\n",
        "print(\"Accuracy:\", accuracy)\n",
        "print(\"Confusion Matrix:\")\n",
        "print(confusion_matrix)"
      ],
      "metadata": {
        "colab": {
          "base_uri": "https://localhost:8080/"
        },
        "id": "JBT6lv1R-Wji",
        "outputId": "83d4fb85-7053-41f9-a841-1c658a22e65d"
      },
      "execution_count": 7,
      "outputs": [
        {
          "output_type": "stream",
          "name": "stdout",
          "text": [
            "F1 Score: 0.5606065148362993\n",
            "Accuracy: 0.5748127645718007\n",
            "Confusion Matrix:\n",
            "[[1815 1742  415]\n",
            " [ 995 3799 1143]\n",
            " [ 138  790 1447]]\n"
          ]
        }
      ]
    },
    {
      "cell_type": "code",
      "source": [
        "# print 15 random missclassified examples\n",
        "misclassified_samples = get_misclassified_samples(svm_predictions, datasets[\"test\"][\"label\"])\n",
        "random_missclassified_samples = get_random_samples(misclassified_samples, 15)\n",
        "for i in range(len(random_missclassified_samples)):\n",
        "    print_error(random_missclassified_samples[i][0], svm_predictions)"
      ],
      "metadata": {
        "colab": {
          "base_uri": "https://localhost:8080/",
          "height": 1000
        },
        "id": "M2g6N085BCoy",
        "outputId": "b4aeff8f-b57b-412e-f48d-a088173cb421"
      },
      "execution_count": 16,
      "outputs": [
        {
          "output_type": "display_data",
          "data": {
            "text/plain": [
              "\"Venezuela's President Maduro accuses US of fabricating drug case against 2 nephews of first lady...\""
            ],
            "application/vnd.google.colaboratory.intrinsic+json": {
              "type": "string"
            }
          },
          "metadata": {}
        },
        {
          "output_type": "stream",
          "name": "stdout",
          "text": [
            "index: 8724\n",
            "predicted value: neutral\n",
            "real value: negative\n",
            "\n"
          ]
        },
        {
          "output_type": "display_data",
          "data": {
            "text/plain": [
              "'@user @user Call Dir. Comey also!  Ya know, that FBI guy?  I hear he can check for dead voters.  @user @user'"
            ],
            "application/vnd.google.colaboratory.intrinsic+json": {
              "type": "string"
            }
          },
          "metadata": {}
        },
        {
          "output_type": "stream",
          "name": "stdout",
          "text": [
            "index: 4061\n",
            "predicted value: neutral\n",
            "real value: negative\n",
            "\n"
          ]
        },
        {
          "output_type": "display_data",
          "data": {
            "text/plain": [
              "'[SocJus] Conservatives are not allowed to be gay. More doublethink, double standards...'"
            ],
            "application/vnd.google.colaboratory.intrinsic+json": {
              "type": "string"
            }
          },
          "metadata": {}
        },
        {
          "output_type": "stream",
          "name": "stdout",
          "text": [
            "index: 11476\n",
            "predicted value: neutral\n",
            "real value: negative\n",
            "\n"
          ]
        },
        {
          "output_type": "display_data",
          "data": {
            "text/plain": [
              "'@user human rights need to be at the top of the negotiations. End the death penalty for apostates and blasphemy.'"
            ],
            "application/vnd.google.colaboratory.intrinsic+json": {
              "type": "string"
            }
          },
          "metadata": {}
        },
        {
          "output_type": "stream",
          "name": "stdout",
          "text": [
            "index: 2926\n",
            "predicted value: negative\n",
            "real value: neutral\n",
            "\n"
          ]
        },
        {
          "output_type": "display_data",
          "data": {
            "text/plain": [
              "'@user I was responding to \"Do better, be better\". This year I thnk she deviated fm that. Will read fm library, tks tho. @user'"
            ],
            "application/vnd.google.colaboratory.intrinsic+json": {
              "type": "string"
            }
          },
          "metadata": {}
        },
        {
          "output_type": "stream",
          "name": "stdout",
          "text": [
            "index: 9608\n",
            "predicted value: positive\n",
            "real value: neutral\n",
            "\n"
          ]
        },
        {
          "output_type": "display_data",
          "data": {
            "text/plain": [
              "\"@user @user @user @user And Israel has universal healthcare & abortion. We pay. Where's the #Prolife voice?\""
            ],
            "application/vnd.google.colaboratory.intrinsic+json": {
              "type": "string"
            }
          },
          "metadata": {}
        },
        {
          "output_type": "stream",
          "name": "stdout",
          "text": [
            "index: 7694\n",
            "predicted value: negative\n",
            "real value: neutral\n",
            "\n"
          ]
        },
        {
          "output_type": "display_data",
          "data": {
            "text/plain": [
              "'#TheWalkingDead S7 is not very addictive.'"
            ],
            "application/vnd.google.colaboratory.intrinsic+json": {
              "type": "string"
            }
          },
          "metadata": {}
        },
        {
          "output_type": "stream",
          "name": "stdout",
          "text": [
            "index: 8524\n",
            "predicted value: neutral\n",
            "real value: negative\n",
            "\n"
          ]
        },
        {
          "output_type": "display_data",
          "data": {
            "text/plain": [
              "'lmao at all the libs who are worried about whats gonna happen to gun control... my dudes we are way past that level of effete value signals'"
            ],
            "application/vnd.google.colaboratory.intrinsic+json": {
              "type": "string"
            }
          },
          "metadata": {}
        },
        {
          "output_type": "stream",
          "name": "stdout",
          "text": [
            "index: 813\n",
            "predicted value: negative\n",
            "real value: neutral\n",
            "\n"
          ]
        },
        {
          "output_type": "display_data",
          "data": {
            "text/plain": [
              "'Pics from @user on the Interview by #HollywoodLivetoday about #Homewalk and more! #ThisIsUs'"
            ],
            "application/vnd.google.colaboratory.intrinsic+json": {
              "type": "string"
            }
          },
          "metadata": {}
        },
        {
          "output_type": "stream",
          "name": "stdout",
          "text": [
            "index: 2437\n",
            "predicted value: neutral\n",
            "real value: positive\n",
            "\n"
          ]
        },
        {
          "output_type": "display_data",
          "data": {
            "text/plain": [
              "'its always valentines with this one #BabySelcaDay'"
            ],
            "application/vnd.google.colaboratory.intrinsic+json": {
              "type": "string"
            }
          },
          "metadata": {}
        },
        {
          "output_type": "stream",
          "name": "stdout",
          "text": [
            "index: 337\n",
            "predicted value: positive\n",
            "real value: neutral\n",
            "\n"
          ]
        },
        {
          "output_type": "display_data",
          "data": {
            "text/plain": [
              "\"Told her don't come for me because she wouldn't be able to find me!!! #IAmTheTruth\""
            ],
            "application/vnd.google.colaboratory.intrinsic+json": {
              "type": "string"
            }
          },
          "metadata": {}
        },
        {
          "output_type": "stream",
          "name": "stdout",
          "text": [
            "index: 2563\n",
            "predicted value: negative\n",
            "real value: neutral\n",
            "\n"
          ]
        },
        {
          "output_type": "display_data",
          "data": {
            "text/plain": [
              "'How to connect your work to the sustainable development goals #SDGs #unitednations #civilsociety #socialsector'"
            ],
            "application/vnd.google.colaboratory.intrinsic+json": {
              "type": "string"
            }
          },
          "metadata": {}
        },
        {
          "output_type": "stream",
          "name": "stdout",
          "text": [
            "index: 9430\n",
            "predicted value: positive\n",
            "real value: neutral\n",
            "\n"
          ]
        },
        {
          "output_type": "display_data",
          "data": {
            "text/plain": [
              "\"@user watch that new david blaine show. shits nuts. you won't regret it.\""
            ],
            "application/vnd.google.colaboratory.intrinsic+json": {
              "type": "string"
            }
          },
          "metadata": {}
        },
        {
          "output_type": "stream",
          "name": "stdout",
          "text": [
            "index: 6238\n",
            "predicted value: negative\n",
            "real value: neutral\n",
            "\n"
          ]
        },
        {
          "output_type": "display_data",
          "data": {
            "text/plain": [
              "'@user @user come to my lightning talk \"deep learning with R\" at the next LA R meetup and see'"
            ],
            "application/vnd.google.colaboratory.intrinsic+json": {
              "type": "string"
            }
          },
          "metadata": {}
        },
        {
          "output_type": "stream",
          "name": "stdout",
          "text": [
            "index: 1609\n",
            "predicted value: positive\n",
            "real value: neutral\n",
            "\n"
          ]
        },
        {
          "output_type": "display_data",
          "data": {
            "text/plain": [
              "\"ALL my niggas get cheese Tim duncan can't switch teams\""
            ],
            "application/vnd.google.colaboratory.intrinsic+json": {
              "type": "string"
            }
          },
          "metadata": {}
        },
        {
          "output_type": "stream",
          "name": "stdout",
          "text": [
            "index: 9032\n",
            "predicted value: positive\n",
            "real value: neutral\n",
            "\n"
          ]
        }
      ]
    },
    {
      "cell_type": "markdown",
      "source": [
        "The model does not recognize context. That makes sense, since while pre processing the text we tokenized each word seperately, therefore losing any context of the surrounding words. So for example for index 2926 even though the information conveyed is neutral, the words themselves (especially death, penalty, apostates, and blasphemy) might appear more relevant for the \"negative\" label.\n",
        "\n",
        "One way to attack this issue is to give more context for each word. We can do this using n-grams."
      ],
      "metadata": {
        "id": "kN-FxZCzClvf"
      }
    },
    {
      "cell_type": "markdown",
      "source": [],
      "metadata": {
        "id": "KjmYdtw2CVG1"
      }
    },
    {
      "cell_type": "markdown",
      "source": [
        "## N-Grams"
      ],
      "metadata": {
        "id": "_Hq2aDgKGGHe"
      }
    },
    {
      "cell_type": "markdown",
      "source": [
        "To give each word context, we will use an n-gram range of 1-5. That means features will be created for individual words aswell as n combinations of surrounding words (up to 5)."
      ],
      "metadata": {
        "id": "SV8LXOVtHUEw"
      }
    },
    {
      "cell_type": "code",
      "execution_count": 8,
      "metadata": {
        "colab": {
          "base_uri": "https://localhost:8080/"
        },
        "id": "GsSEyyOI8MHV",
        "outputId": "4c39281a-6100-48f4-ea93-e1921931b75c"
      },
      "outputs": [
        {
          "output_type": "stream",
          "name": "stdout",
          "text": [
            "(45615, 2290797) (12284, 2290797)\n"
          ]
        }
      ],
      "source": [
        "vectorizer = TfidfVectorizer(ngram_range=(1,5))\n",
        "vectors_train = vectorizer.fit_transform(datasets[\"train\"][\"text\"])\n",
        "vectors_test = vectorizer.transform(datasets[\"test\"][\"text\"])\n",
        "print(vectors_train.shape, vectors_test.shape)"
      ]
    },
    {
      "cell_type": "markdown",
      "source": [
        "Here you can see the larger amount of features created by this vectorizer."
      ],
      "metadata": {
        "id": "cffy1aa5HsKI"
      }
    },
    {
      "cell_type": "code",
      "source": [
        "# Train the SVM classifier\n",
        "svm_classifier.fit(vectors_train, datasets[\"train\"][\"label\"])\n",
        "\n",
        "svm_predictions = svm_classifier.predict(vectors_test)\n",
        "\n",
        "f1_score = metrics.f1_score(datasets[\"test\"][\"label\"], svm_predictions, average='macro')\n",
        "accuracy = metrics.accuracy_score(datasets[\"test\"][\"label\"], svm_predictions)\n",
        "confusion_matrix = metrics.confusion_matrix(datasets[\"test\"][\"label\"], svm_predictions)\n",
        "\n",
        "\n",
        "print(\"F1 Score:\", f1_score)\n",
        "print(\"Accuracy:\", accuracy)\n",
        "print(\"Confusion Matrix:\")\n",
        "print(confusion_matrix)"
      ],
      "metadata": {
        "colab": {
          "base_uri": "https://localhost:8080/"
        },
        "id": "OF98qJsLG5_A",
        "outputId": "0a7899fd-0c78-4390-dcc5-23fe7a73455f"
      },
      "execution_count": 35,
      "outputs": [
        {
          "output_type": "stream",
          "name": "stdout",
          "text": [
            "F1 Score: 0.5701920332711593\n",
            "Accuracy: 0.5809182676652557\n",
            "Confusion Matrix:\n",
            "[[1830 1617  525]\n",
            " [ 970 3684 1283]\n",
            " [ 119  634 1622]]\n"
          ]
        }
      ]
    },
    {
      "cell_type": "markdown",
      "source": [
        "The model with n-grams has gotten a little better. Using our example from before we can see, that with the context of the neighbored words the tweet is correctly classified as neutral."
      ],
      "metadata": {
        "id": "-4kDEq-oPKOB"
      }
    },
    {
      "cell_type": "code",
      "source": [
        "print_error(2926, svm_predictions)"
      ],
      "metadata": {
        "colab": {
          "base_uri": "https://localhost:8080/",
          "height": 105
        },
        "id": "6YFUEBo5Pi0T",
        "outputId": "3c061993-b708-441d-dd9b-23f493af141f"
      },
      "execution_count": 44,
      "outputs": [
        {
          "output_type": "display_data",
          "data": {
            "text/plain": [
              "'@user human rights need to be at the top of the negotiations. End the death penalty for apostates and blasphemy.'"
            ],
            "application/vnd.google.colaboratory.intrinsic+json": {
              "type": "string"
            }
          },
          "metadata": {}
        },
        {
          "output_type": "stream",
          "name": "stdout",
          "text": [
            "index: 2926\n",
            "predicted value: neutral\n",
            "real value: neutral\n",
            "\n"
          ]
        }
      ]
    },
    {
      "cell_type": "markdown",
      "source": [],
      "metadata": {
        "id": "-h441_C7PXKl"
      }
    },
    {
      "cell_type": "code",
      "source": [
        "# print 15 random missclassified examples\n",
        "misclassified_samples = get_misclassified_samples(svm_predictions, datasets[\"test\"][\"label\"])\n",
        "random_missclassified_samples = get_random_samples(misclassified_samples, 15)\n",
        "for i in range(len(random_missclassified_samples)):\n",
        "    print_error(random_missclassified_samples[i][0], svm_predictions)"
      ],
      "metadata": {
        "colab": {
          "base_uri": "https://localhost:8080/",
          "height": 1000
        },
        "id": "n2DWMZT4ObL3",
        "outputId": "866eaacf-dd79-4f44-ce1d-b1201d6b555a"
      },
      "execution_count": 37,
      "outputs": [
        {
          "output_type": "display_data",
          "data": {
            "text/plain": [
              "\"LIAAAAAM OMG!!  🔥🔥🔥I JIST CAN'T.. I'M LOSING MY SHIT HERE OHSSKXVSJSB#LiamPayne #OneDirection #1D…\""
            ],
            "application/vnd.google.colaboratory.intrinsic+json": {
              "type": "string"
            }
          },
          "metadata": {}
        },
        {
          "output_type": "stream",
          "name": "stdout",
          "text": [
            "index: 4201\n",
            "predicted value: negative\n",
            "real value: positive\n",
            "\n"
          ]
        },
        {
          "output_type": "display_data",
          "data": {
            "text/plain": [
              "'More on \"voter suppression operations\" and \"Facebook dark posts\".'"
            ],
            "application/vnd.google.colaboratory.intrinsic+json": {
              "type": "string"
            }
          },
          "metadata": {}
        },
        {
          "output_type": "stream",
          "name": "stdout",
          "text": [
            "index: 7914\n",
            "predicted value: neutral\n",
            "real value: negative\n",
            "\n"
          ]
        },
        {
          "output_type": "display_data",
          "data": {
            "text/plain": [
              "'KIM FATTY THE THIRD'"
            ],
            "application/vnd.google.colaboratory.intrinsic+json": {
              "type": "string"
            }
          },
          "metadata": {}
        },
        {
          "output_type": "stream",
          "name": "stdout",
          "text": [
            "index: 1601\n",
            "predicted value: neutral\n",
            "real value: negative\n",
            "\n"
          ]
        },
        {
          "output_type": "display_data",
          "data": {
            "text/plain": [
              "\"@user #Obama #Trump #love #Hillary #Bernie this is what's going on in the Obama Admin continue with Hillary…\""
            ],
            "application/vnd.google.colaboratory.intrinsic+json": {
              "type": "string"
            }
          },
          "metadata": {}
        },
        {
          "output_type": "stream",
          "name": "stdout",
          "text": [
            "index: 6923\n",
            "predicted value: positive\n",
            "real value: neutral\n",
            "\n"
          ]
        },
        {
          "output_type": "display_data",
          "data": {
            "text/plain": [
              "'The latest #NoTPP Today (https://t.co/vd7t22SVe7)! Thanks to @user @user @user #stoptpp #tpp'"
            ],
            "application/vnd.google.colaboratory.intrinsic+json": {
              "type": "string"
            }
          },
          "metadata": {}
        },
        {
          "output_type": "stream",
          "name": "stdout",
          "text": [
            "index: 12181\n",
            "predicted value: positive\n",
            "real value: neutral\n",
            "\n"
          ]
        },
        {
          "output_type": "display_data",
          "data": {
            "text/plain": [
              "\"Here's the label for the Bob Dylan countdown's song 17, Mozambique.\""
            ],
            "application/vnd.google.colaboratory.intrinsic+json": {
              "type": "string"
            }
          },
          "metadata": {}
        },
        {
          "output_type": "stream",
          "name": "stdout",
          "text": [
            "index: 2147\n",
            "predicted value: positive\n",
            "real value: neutral\n",
            "\n"
          ]
        },
        {
          "output_type": "display_data",
          "data": {
            "text/plain": [
              "\"With picks of Steve Bannon & Micheal Flynn, @user unpopular win radically alters Obama's post-presidency plans via @user\""
            ],
            "application/vnd.google.colaboratory.intrinsic+json": {
              "type": "string"
            }
          },
          "metadata": {}
        },
        {
          "output_type": "stream",
          "name": "stdout",
          "text": [
            "index: 11270\n",
            "predicted value: neutral\n",
            "real value: negative\n",
            "\n"
          ]
        },
        {
          "output_type": "display_data",
          "data": {
            "text/plain": [
              "'I tell them the media & Obama admin fought for years to normalize leftism/socialism/communism..so their perception…'"
            ],
            "application/vnd.google.colaboratory.intrinsic+json": {
              "type": "string"
            }
          },
          "metadata": {}
        },
        {
          "output_type": "stream",
          "name": "stdout",
          "text": [
            "index: 1813\n",
            "predicted value: negative\n",
            "real value: neutral\n",
            "\n"
          ]
        },
        {
          "output_type": "display_data",
          "data": {
            "text/plain": [
              "'we are in dangerous days, when the far right wing gains such a prominent and powerful position:  \"...“Many of...'"
            ],
            "application/vnd.google.colaboratory.intrinsic+json": {
              "type": "string"
            }
          },
          "metadata": {}
        },
        {
          "output_type": "stream",
          "name": "stdout",
          "text": [
            "index: 2632\n",
            "predicted value: neutral\n",
            "real value: negative\n",
            "\n"
          ]
        },
        {
          "output_type": "display_data",
          "data": {
            "text/plain": [
              "\"1.  Emily Gilmore2.  Sookie3.  Lane's mother4.  Miss Patty #GilmoreGirlsTop4\""
            ],
            "application/vnd.google.colaboratory.intrinsic+json": {
              "type": "string"
            }
          },
          "metadata": {}
        },
        {
          "output_type": "stream",
          "name": "stdout",
          "text": [
            "index: 446\n",
            "predicted value: positive\n",
            "real value: neutral\n",
            "\n"
          ]
        },
        {
          "output_type": "display_data",
          "data": {
            "text/plain": [
              "'@user Donald J. Trump, the second president in 20 years to lose the popular vote, most unpopular president in history'"
            ],
            "application/vnd.google.colaboratory.intrinsic+json": {
              "type": "string"
            }
          },
          "metadata": {}
        },
        {
          "output_type": "stream",
          "name": "stdout",
          "text": [
            "index: 8447\n",
            "predicted value: neutral\n",
            "real value: negative\n",
            "\n"
          ]
        },
        {
          "output_type": "display_data",
          "data": {
            "text/plain": [
              "\"I'm cool with recount, imagine mud in dems eyes when Trump STILL wins lol\""
            ],
            "application/vnd.google.colaboratory.intrinsic+json": {
              "type": "string"
            }
          },
          "metadata": {}
        },
        {
          "output_type": "stream",
          "name": "stdout",
          "text": [
            "index: 11684\n",
            "predicted value: positive\n",
            "real value: neutral\n",
            "\n"
          ]
        },
        {
          "output_type": "display_data",
          "data": {
            "text/plain": [
              "\"@user @user Flowers could have hit .240/.295/.360, and they're selling still but Sale has a Cy Young award\""
            ],
            "application/vnd.google.colaboratory.intrinsic+json": {
              "type": "string"
            }
          },
          "metadata": {}
        },
        {
          "output_type": "stream",
          "name": "stdout",
          "text": [
            "index: 11960\n",
            "predicted value: negative\n",
            "real value: neutral\n",
            "\n"
          ]
        },
        {
          "output_type": "display_data",
          "data": {
            "text/plain": [
              "'@user @user Worse - look at her interview. \"Civil Disobedience\" sounds like Michael Moore! She calls Trump…'"
            ],
            "application/vnd.google.colaboratory.intrinsic+json": {
              "type": "string"
            }
          },
          "metadata": {}
        },
        {
          "output_type": "stream",
          "name": "stdout",
          "text": [
            "index: 8782\n",
            "predicted value: neutral\n",
            "real value: negative\n",
            "\n"
          ]
        },
        {
          "output_type": "display_data",
          "data": {
            "text/plain": [
              "\"'Absurd & Evidence Free' (Polite way of saying Pack of Lies) - #Iran Rejects #Israel Claim of Arms for #Hezbollah on Commercial Flights\""
            ],
            "application/vnd.google.colaboratory.intrinsic+json": {
              "type": "string"
            }
          },
          "metadata": {}
        },
        {
          "output_type": "stream",
          "name": "stdout",
          "text": [
            "index: 11996\n",
            "predicted value: negative\n",
            "real value: neutral\n",
            "\n"
          ]
        }
      ]
    },
    {
      "cell_type": "markdown",
      "source": [
        "It is also visible, that tweets do not have standard format. There are a lot of abbreviations, spelling errors and non standard usage of symbols. For example in index 1813 three words are only seperated by a slash \"/\". Although with cosine_similarity we can see, that these strings still represent the same vector when vectorized."
      ],
      "metadata": {
        "id": "1On67QCrRW-p"
      }
    },
    {
      "cell_type": "code",
      "source": [
        "from sklearn.metrics.pairwise import cosine_similarity\n",
        "\n",
        "vector1 = vectorizer.transform([\"leftism/socialism/communism..so their perception…\"])\n",
        "vector2 = vectorizer.transform([\"leftism socialism communism so their perception\"])\n",
        "\n",
        "similarity = cosine_similarity(vector1, vector2)\n",
        "\n",
        "# Print the cosine similarity value\n",
        "print(similarity)"
      ],
      "metadata": {
        "colab": {
          "base_uri": "https://localhost:8080/"
        },
        "id": "ITQlJXz5SqHE",
        "outputId": "0b925380-8c35-4705-e87c-1f17540d34bf"
      },
      "execution_count": 14,
      "outputs": [
        {
          "output_type": "stream",
          "name": "stdout",
          "text": [
            "[[1.]]\n"
          ]
        }
      ]
    },
    {
      "cell_type": "markdown",
      "source": [
        "We will exproce data cleaning / processing later. First we would like to see, how the model behaves after removing the stop words."
      ],
      "metadata": {
        "id": "1-gTQCg_Xlvh"
      }
    },
    {
      "cell_type": "markdown",
      "source": [
        "## Removing stop_words"
      ],
      "metadata": {
        "id": "W7Ws_EyDighF"
      }
    },
    {
      "cell_type": "code",
      "source": [
        "vectorizer = TfidfVectorizer(ngram_range=(1,5), stop_words=\"english\")\n",
        "vectors_train = vectorizer.fit_transform(datasets[\"train\"][\"text\"])\n",
        "vectors_test = vectorizer.transform(datasets[\"test\"][\"text\"])\n",
        "print(vectors_train.shape, vectors_test.shape)"
      ],
      "metadata": {
        "colab": {
          "base_uri": "https://localhost:8080/"
        },
        "id": "rhmVDP-BXz7N",
        "outputId": "11afed8c-63cd-45dc-e29d-a68c86f8011c"
      },
      "execution_count": 15,
      "outputs": [
        {
          "output_type": "stream",
          "name": "stdout",
          "text": [
            "(45615, 1402269) (12284, 1402269)\n"
          ]
        }
      ]
    },
    {
      "cell_type": "code",
      "source": [
        "from sklearn import metrics\n",
        "from sklearn.svm import LinearSVC\n",
        "\n",
        "# Train the SVM classifier\n",
        "svm_classifier = LinearSVC()\n",
        "svm_classifier.fit(vectors_train, datasets[\"train\"][\"label\"])\n",
        "\n",
        "svm_predictions = svm_classifier.predict(vectors_test)\n",
        "\n",
        "f1_score = metrics.f1_score(datasets[\"test\"][\"label\"], svm_predictions, average='macro')\n",
        "accuracy = metrics.accuracy_score(datasets[\"test\"][\"label\"], svm_predictions)\n",
        "confusion_matrix = metrics.confusion_matrix(datasets[\"test\"][\"label\"], svm_predictions)\n",
        "\n",
        "\n",
        "print(\"F1 Score:\", f1_score)\n",
        "print(\"Accuracy:\", accuracy)\n",
        "print(\"Confusion Matrix:\")\n",
        "print(confusion_matrix)"
      ],
      "metadata": {
        "colab": {
          "base_uri": "https://localhost:8080/"
        },
        "id": "O_aGUVvDi9bs",
        "outputId": "c7ba8dae-0dc1-404d-a613-4cd2062103d2"
      },
      "execution_count": 19,
      "outputs": [
        {
          "output_type": "stream",
          "name": "stdout",
          "text": [
            "F1 Score: 0.5529963999614034\n",
            "Accuracy: 0.567730380983393\n",
            "Confusion Matrix:\n",
            "[[1666 1807  499]\n",
            " [ 852 3758 1327]\n",
            " [ 114  711 1550]]\n"
          ]
        }
      ]
    },
    {
      "cell_type": "markdown",
      "source": [
        "As I expected, the removal of stop words wasn't as fruitful. I think because of it we lost some context."
      ],
      "metadata": {
        "id": "w5JlMYAujimc"
      }
    },
    {
      "cell_type": "code",
      "source": [
        "import nltk\n",
        "from nltk.corpus import stopwords\n",
        "from nltk.tokenize import word_tokenize\n",
        "\n",
        "nltk.download('stopwords')\n",
        "nltk.download('punkt')\n",
        "\n",
        "def remove_stop_words(input_string):\n",
        "    # Tokenize the input string into words\n",
        "    words = word_tokenize(input_string)\n",
        "\n",
        "    # Get the English stopwords from NLTK\n",
        "    stop_words = set(stopwords.words('english'))\n",
        "\n",
        "    # Remove the stopwords from the list of words\n",
        "    filtered_words = [word for word in words if word.casefold() not in stop_words]\n",
        "\n",
        "    # Reconstruct the filtered string\n",
        "    filtered_string = ' '.join(filtered_words)\n",
        "\n",
        "    return filtered_string\n",
        "\n",
        "# Adjusted print_error with stop_words removal\n",
        "def print_error_without_sw(index, pred):\n",
        "   # compare stop word removes vs with stop words\n",
        "    display(datasets[\"test\"][\"text\"][index])\n",
        "    display(remove_stop_words(datasets[\"test\"][\"text\"][index]))\n",
        "    print(f\"index: {index}\")\n",
        "    print(f\"predicted value: {label_translator[pred[index]]}\")\n",
        "    print(f\"real value: {label_translator[datasets['test']['label'][index]]}\\n\")"
      ],
      "metadata": {
        "colab": {
          "base_uri": "https://localhost:8080/"
        },
        "id": "Js4OzlvOka5h",
        "outputId": "fb12287c-d76a-4885-99f9-408664c8aca5"
      },
      "execution_count": 28,
      "outputs": [
        {
          "output_type": "stream",
          "name": "stderr",
          "text": [
            "[nltk_data] Downloading package stopwords to /root/nltk_data...\n",
            "[nltk_data]   Package stopwords is already up-to-date!\n",
            "[nltk_data] Downloading package punkt to /root/nltk_data...\n",
            "[nltk_data]   Package punkt is already up-to-date!\n"
          ]
        }
      ]
    },
    {
      "cell_type": "code",
      "source": [
        "# print 15 random missclassified examples\n",
        "misclassified_samples = get_misclassified_samples(svm_predictions, datasets[\"test\"][\"label\"])\n",
        "random_missclassified_samples = get_random_samples(misclassified_samples, 15)\n",
        "for i in range(len(random_missclassified_samples)):\n",
        "    print_error_without_sw(random_missclassified_samples[i][0], svm_predictions)"
      ],
      "metadata": {
        "colab": {
          "base_uri": "https://localhost:8080/",
          "height": 1000
        },
        "id": "BX9AvSbxlUhx",
        "outputId": "f407df3a-e189-4ee9-a808-7b684d3fcc5c"
      },
      "execution_count": 29,
      "outputs": [
        {
          "output_type": "display_data",
          "data": {
            "text/plain": [
              "'@user \"the times they are a changin\\'\" by bob dylan, \"the watchtower\" Bobbi Hendrix, n Phil Collins'"
            ],
            "application/vnd.google.colaboratory.intrinsic+json": {
              "type": "string"
            }
          },
          "metadata": {}
        },
        {
          "output_type": "display_data",
          "data": {
            "text/plain": [
              "\"@ user `` times changin ' '' bob dylan , `` watchtower '' Bobbi Hendrix , n Phil Collins\""
            ],
            "application/vnd.google.colaboratory.intrinsic+json": {
              "type": "string"
            }
          },
          "metadata": {}
        },
        {
          "output_type": "stream",
          "name": "stdout",
          "text": [
            "index: 2645\n",
            "predicted value: positive\n",
            "real value: neutral\n",
            "\n"
          ]
        },
        {
          "output_type": "display_data",
          "data": {
            "text/plain": [
              "\"That time @user arrived in #Russia and the FSB's Olga Kostina was waiting at the airport to facilitate his defec…\""
            ],
            "application/vnd.google.colaboratory.intrinsic+json": {
              "type": "string"
            }
          },
          "metadata": {}
        },
        {
          "output_type": "display_data",
          "data": {
            "text/plain": [
              "\"time @ user arrived # Russia FSB 's Olga Kostina waiting airport facilitate defec…\""
            ],
            "application/vnd.google.colaboratory.intrinsic+json": {
              "type": "string"
            }
          },
          "metadata": {}
        },
        {
          "output_type": "stream",
          "name": "stdout",
          "text": [
            "index: 11532\n",
            "predicted value: positive\n",
            "real value: negative\n",
            "\n"
          ]
        },
        {
          "output_type": "display_data",
          "data": {
            "text/plain": [
              "'An image of a dead animals body part is not the best #marketing approach :/ Especially with #veganism and vegetaria…'"
            ],
            "application/vnd.google.colaboratory.intrinsic+json": {
              "type": "string"
            }
          },
          "metadata": {}
        },
        {
          "output_type": "display_data",
          "data": {
            "text/plain": [
              "'image dead animals body part best # marketing approach : / Especially # veganism vegetaria…'"
            ],
            "application/vnd.google.colaboratory.intrinsic+json": {
              "type": "string"
            }
          },
          "metadata": {}
        },
        {
          "output_type": "stream",
          "name": "stdout",
          "text": [
            "index: 11913\n",
            "predicted value: positive\n",
            "real value: negative\n",
            "\n"
          ]
        },
        {
          "output_type": "display_data",
          "data": {
            "text/plain": [
              "'I hope Donald trump builds a wall and says EA MADDEN EMOLOYEES ARE BAD HOMBRES @user'"
            ],
            "application/vnd.google.colaboratory.intrinsic+json": {
              "type": "string"
            }
          },
          "metadata": {}
        },
        {
          "output_type": "display_data",
          "data": {
            "text/plain": [
              "'hope Donald trump builds wall says EA MADDEN EMOLOYEES BAD HOMBRES @ user'"
            ],
            "application/vnd.google.colaboratory.intrinsic+json": {
              "type": "string"
            }
          },
          "metadata": {}
        },
        {
          "output_type": "stream",
          "name": "stdout",
          "text": [
            "index: 4207\n",
            "predicted value: negative\n",
            "real value: positive\n",
            "\n"
          ]
        },
        {
          "output_type": "display_data",
          "data": {
            "text/plain": [
              "\"#Saddam's #Cousin #Arrested In #ISIS Attack on #Kirkuk -->\""
            ],
            "application/vnd.google.colaboratory.intrinsic+json": {
              "type": "string"
            }
          },
          "metadata": {}
        },
        {
          "output_type": "display_data",
          "data": {
            "text/plain": [
              "\"# Saddam 's # Cousin # Arrested # ISIS Attack # Kirkuk -- >\""
            ],
            "application/vnd.google.colaboratory.intrinsic+json": {
              "type": "string"
            }
          },
          "metadata": {}
        },
        {
          "output_type": "stream",
          "name": "stdout",
          "text": [
            "index: 1352\n",
            "predicted value: negative\n",
            "real value: neutral\n",
            "\n"
          ]
        },
        {
          "output_type": "display_data",
          "data": {
            "text/plain": [
              "\"HURRY!  then work on dismantling the electoral college. it's a dinosaur that needs extinction. 2.7 million (so far)…\""
            ],
            "application/vnd.google.colaboratory.intrinsic+json": {
              "type": "string"
            }
          },
          "metadata": {}
        },
        {
          "output_type": "display_data",
          "data": {
            "text/plain": [
              "\"HURRY ! work dismantling electoral college . 's dinosaur needs extinction . 2.7 million ( far ) …\""
            ],
            "application/vnd.google.colaboratory.intrinsic+json": {
              "type": "string"
            }
          },
          "metadata": {}
        },
        {
          "output_type": "stream",
          "name": "stdout",
          "text": [
            "index: 6498\n",
            "predicted value: positive\n",
            "real value: negative\n",
            "\n"
          ]
        },
        {
          "output_type": "display_data",
          "data": {
            "text/plain": [
              "'I know this is seen as a football holiday, but really?• @user win• @user drops 40/11• @user w/ 45• @user w/ 45'"
            ],
            "application/vnd.google.colaboratory.intrinsic+json": {
              "type": "string"
            }
          },
          "metadata": {}
        },
        {
          "output_type": "display_data",
          "data": {
            "text/plain": [
              "'know seen football holiday , really ? • @ user win• @ user drops 40/11• @ user w/ 45• @ user w/ 45'"
            ],
            "application/vnd.google.colaboratory.intrinsic+json": {
              "type": "string"
            }
          },
          "metadata": {}
        },
        {
          "output_type": "stream",
          "name": "stdout",
          "text": [
            "index: 9585\n",
            "predicted value: neutral\n",
            "real value: positive\n",
            "\n"
          ]
        },
        {
          "output_type": "display_data",
          "data": {
            "text/plain": [
              "\"@user @user Yeah, ok man. He's got more knowledge than you ever will. If he tried to get the popular vote, he would've.\""
            ],
            "application/vnd.google.colaboratory.intrinsic+json": {
              "type": "string"
            }
          },
          "metadata": {}
        },
        {
          "output_type": "display_data",
          "data": {
            "text/plain": [
              "\"@ user @ user Yeah , ok man . 's got knowledge ever . tried get popular vote , would 've .\""
            ],
            "application/vnd.google.colaboratory.intrinsic+json": {
              "type": "string"
            }
          },
          "metadata": {}
        },
        {
          "output_type": "stream",
          "name": "stdout",
          "text": [
            "index: 1048\n",
            "predicted value: positive\n",
            "real value: negative\n",
            "\n"
          ]
        },
        {
          "output_type": "display_data",
          "data": {
            "text/plain": [
              "\"FastPowerPunch MovesBowieAction NotFastest #Israel's Samson Slew1000 #HAMAS AssesCalledPhilistines #IStandWithIsrael\""
            ],
            "application/vnd.google.colaboratory.intrinsic+json": {
              "type": "string"
            }
          },
          "metadata": {}
        },
        {
          "output_type": "display_data",
          "data": {
            "text/plain": [
              "\"FastPowerPunch MovesBowieAction NotFastest # Israel 's Samson Slew1000 # HAMAS AssesCalledPhilistines # IStandWithIsrael\""
            ],
            "application/vnd.google.colaboratory.intrinsic+json": {
              "type": "string"
            }
          },
          "metadata": {}
        },
        {
          "output_type": "stream",
          "name": "stdout",
          "text": [
            "index: 3803\n",
            "predicted value: neutral\n",
            "real value: negative\n",
            "\n"
          ]
        },
        {
          "output_type": "display_data",
          "data": {
            "text/plain": [
              "'#NowPlaying Forever Young - Slow Version de Bob Dylan ♫'"
            ],
            "application/vnd.google.colaboratory.intrinsic+json": {
              "type": "string"
            }
          },
          "metadata": {}
        },
        {
          "output_type": "display_data",
          "data": {
            "text/plain": [
              "'# NowPlaying Forever Young - Slow Version de Bob Dylan ♫'"
            ],
            "application/vnd.google.colaboratory.intrinsic+json": {
              "type": "string"
            }
          },
          "metadata": {}
        },
        {
          "output_type": "stream",
          "name": "stdout",
          "text": [
            "index: 10167\n",
            "predicted value: positive\n",
            "real value: neutral\n",
            "\n"
          ]
        },
        {
          "output_type": "display_data",
          "data": {
            "text/plain": [
              "'A picture is worth a thousand words. #notmypresident #ThankYouObama'"
            ],
            "application/vnd.google.colaboratory.intrinsic+json": {
              "type": "string"
            }
          },
          "metadata": {}
        },
        {
          "output_type": "display_data",
          "data": {
            "text/plain": [
              "'picture worth thousand words . # notmypresident # ThankYouObama'"
            ],
            "application/vnd.google.colaboratory.intrinsic+json": {
              "type": "string"
            }
          },
          "metadata": {}
        },
        {
          "output_type": "stream",
          "name": "stdout",
          "text": [
            "index: 9664\n",
            "predicted value: positive\n",
            "real value: neutral\n",
            "\n"
          ]
        },
        {
          "output_type": "display_data",
          "data": {
            "text/plain": [
              "'discover ZERO TO HERO WINNING BLACKJACK.. #MINvsDET  #BlackFriday  #ATLatUTA  #GoHabsGo  #RealMadrid  #Aqueduct  #FCBLive  #HipHopHarvest'"
            ],
            "application/vnd.google.colaboratory.intrinsic+json": {
              "type": "string"
            }
          },
          "metadata": {}
        },
        {
          "output_type": "display_data",
          "data": {
            "text/plain": [
              "'discover ZERO HERO WINNING BLACKJACK .. # MINvsDET # BlackFriday # ATLatUTA # GoHabsGo # RealMadrid # Aqueduct # FCBLive # HipHopHarvest'"
            ],
            "application/vnd.google.colaboratory.intrinsic+json": {
              "type": "string"
            }
          },
          "metadata": {}
        },
        {
          "output_type": "stream",
          "name": "stdout",
          "text": [
            "index: 1751\n",
            "predicted value: positive\n",
            "real value: neutral\n",
            "\n"
          ]
        },
        {
          "output_type": "display_data",
          "data": {
            "text/plain": [
              "'Creations of Charleston is out! #nationalfastfoodday'"
            ],
            "application/vnd.google.colaboratory.intrinsic+json": {
              "type": "string"
            }
          },
          "metadata": {}
        },
        {
          "output_type": "display_data",
          "data": {
            "text/plain": [
              "'Creations Charleston ! # nationalfastfoodday'"
            ],
            "application/vnd.google.colaboratory.intrinsic+json": {
              "type": "string"
            }
          },
          "metadata": {}
        },
        {
          "output_type": "stream",
          "name": "stdout",
          "text": [
            "index: 4925\n",
            "predicted value: neutral\n",
            "real value: positive\n",
            "\n"
          ]
        },
        {
          "output_type": "display_data",
          "data": {
            "text/plain": [
              "'Reporter visiting Islamic state terrirory. #mosuloffensive #mosul #isis #iraq #syria #war #islamicstate #funny'"
            ],
            "application/vnd.google.colaboratory.intrinsic+json": {
              "type": "string"
            }
          },
          "metadata": {}
        },
        {
          "output_type": "display_data",
          "data": {
            "text/plain": [
              "'Reporter visiting Islamic state terrirory . # mosuloffensive # mosul # isis # iraq # syria # war # islamicstate # funny'"
            ],
            "application/vnd.google.colaboratory.intrinsic+json": {
              "type": "string"
            }
          },
          "metadata": {}
        },
        {
          "output_type": "stream",
          "name": "stdout",
          "text": [
            "index: 6485\n",
            "predicted value: negative\n",
            "real value: neutral\n",
            "\n"
          ]
        },
        {
          "output_type": "display_data",
          "data": {
            "text/plain": [
              "'Bad HOMBRES, Awful Women of all ages (ft. “Odd Al”\\xa0Yankovic)'"
            ],
            "application/vnd.google.colaboratory.intrinsic+json": {
              "type": "string"
            }
          },
          "metadata": {}
        },
        {
          "output_type": "display_data",
          "data": {
            "text/plain": [
              "'Bad HOMBRES , Awful Women ages ( ft. “ Odd Al ” Yankovic )'"
            ],
            "application/vnd.google.colaboratory.intrinsic+json": {
              "type": "string"
            }
          },
          "metadata": {}
        },
        {
          "output_type": "stream",
          "name": "stdout",
          "text": [
            "index: 8964\n",
            "predicted value: negative\n",
            "real value: neutral\n",
            "\n"
          ]
        }
      ]
    },
    {
      "cell_type": "markdown",
      "source": [
        "As we can see a lot of context is removed with the removal of stop words. We can see the extreme cases where negative sentiment is classified as positive and vie versa. In index 11913 the whole context is given by the stop words. \"An image of a dead animals body part is not the best...\" is not the same as \"image dead animals body part best\""
      ],
      "metadata": {
        "id": "mMvIQJgtl74Y"
      }
    },
    {
      "cell_type": "markdown",
      "source": [
        "## Feature Union"
      ],
      "metadata": {
        "id": "odf6JPOzoNAA"
      }
    },
    {
      "cell_type": "markdown",
      "source": [
        "We now create a pipeline using feature union, which combines two different TfidfVectorizer transformers with different n-gram ranges and lowercase settings."
      ],
      "metadata": {
        "id": "X3UCC2s6s1EG"
      }
    },
    {
      "cell_type": "code",
      "source": [
        "del vectors_train\n",
        "del vectors_test\n",
        "del vectorizer"
      ],
      "metadata": {
        "id": "OxcC5VFEqaWv"
      },
      "execution_count": 31,
      "outputs": []
    },
    {
      "cell_type": "code",
      "source": [
        "from sklearn.pipeline import Pipeline, FeatureUnion\n",
        "from sklearn.pipeline import make_pipeline\n",
        "\n",
        "# Define the feature union with multiple pipelines\n",
        "feature_union = FeatureUnion(\n",
        "        transformer_list=[\n",
        "            ('one_five', TfidfVectorizer(ngram_range=(1, 5), lowercase=False)),\n",
        "            ('two_four', TfidfVectorizer(ngram_range=(2, 4), lowercase=True))\n",
        "        ]\n",
        "    )\n",
        "\n",
        "\n",
        "svm_classifier = make_pipeline(feature_union, LinearSVC())\n",
        "\n",
        "# Train the model\n",
        "svm_classifier.fit(datasets[\"train\"][\"text\"], datasets[\"train\"][\"label\"])\n",
        "\n",
        "# Test the model\n",
        "svm_predictions = svm_classifier.predict(datasets[\"test\"][\"text\"])\n",
        "\n",
        "\n",
        "# Evaluate the model\n",
        "accuracy = metrics.accuracy_score(datasets[\"test\"][\"label\"], svm_predictions)\n",
        "f1_score = metrics.f1_score(datasets[\"test\"][\"label\"], svm_predictions, average='macro')\n",
        "confusion_matrix = metrics.confusion_matrix(datasets[\"test\"][\"label\"], svm_predictions)\n",
        "\n",
        "print(\"Accuracy:\", accuracy)\n",
        "print(\"F1 Score:\", f1_score)\n",
        "print(\"Confusion Matrix:\")\n",
        "print(confusion_matrix)"
      ],
      "metadata": {
        "colab": {
          "base_uri": "https://localhost:8080/"
        },
        "id": "Dlxc7OAJmo_0",
        "outputId": "8c99f7b4-13b5-4f1b-de7b-c3b3beb924ec"
      },
      "execution_count": 40,
      "outputs": [
        {
          "output_type": "stream",
          "name": "stdout",
          "text": [
            "Accuracy: 0.5595083034842071\n",
            "F1 Score: 0.537756683103046\n",
            "Confusion Matrix:\n",
            "[[1449 1945  578]\n",
            " [ 778 3905 1254]\n",
            " [ 101  755 1519]]\n"
          ]
        }
      ]
    },
    {
      "cell_type": "markdown",
      "source": [
        "This does not improve the model."
      ],
      "metadata": {
        "id": "NUq8Yr28s7eB"
      }
    },
    {
      "cell_type": "markdown",
      "source": [
        "## Preprocessing Text"
      ],
      "metadata": {
        "id": "6c-9289VtCb3"
      }
    },
    {
      "cell_type": "markdown",
      "source": [
        "We now try to process the text."
      ],
      "metadata": {
        "id": "gvxoMKv5tXoy"
      }
    },
    {
      "cell_type": "code",
      "source": [
        "import re\n",
        "import nltk\n",
        "from nltk.corpus import stopwords\n",
        "from nltk.tokenize import TweetTokenizer\n",
        "from nltk.stem import WordNetLemmatizer\n",
        "\n",
        "nltk.download('stopwords')\n",
        "nltk.download('wordnet')\n",
        "\n",
        "# Function to preprocess tweets\n",
        "def preprocess_tweet(tweet):\n",
        "    # Remove URLs\n",
        "    tweet = re.sub(r\"http\\S+|www\\S+|https\\S+\", \"\", tweet, flags=re.MULTILINE)\n",
        "\n",
        "    # Remove usernames and hashtags\n",
        "    tweet = re.sub(r\"@\\w+|\\#\\w+\", \"\", tweet)\n",
        "\n",
        "    # Tokenize the tweet\n",
        "    tokenizer = TweetTokenizer(preserve_case=False, strip_handles=True, reduce_len=True)\n",
        "    tokens = tokenizer.tokenize(tweet)\n",
        "\n",
        "    punctuation = [',', '.', '!', '?', ':', ';', '(', ')', '[', ']', '{', '}']\n",
        "    tokens = [token for token in tokens if token not in punctuation]\n",
        "\n",
        "    # Lemmatize tokens\n",
        "    lemmatizer = WordNetLemmatizer()\n",
        "    tokens = [lemmatizer.lemmatize(token) for token in tokens]\n",
        "\n",
        "    # Join the tokens back into a preprocessed tweet\n",
        "    preprocessed_tweet = \" \".join(tokens)\n",
        "\n",
        "    return preprocessed_tweet\n"
      ],
      "metadata": {
        "colab": {
          "base_uri": "https://localhost:8080/"
        },
        "id": "p0pkLCagtFCV",
        "outputId": "017473ee-b160-49f0-8f41-cbeef61fce6c"
      },
      "execution_count": 48,
      "outputs": [
        {
          "output_type": "stream",
          "name": "stderr",
          "text": [
            "[nltk_data] Downloading package stopwords to /root/nltk_data...\n",
            "[nltk_data]   Package stopwords is already up-to-date!\n",
            "[nltk_data] Downloading package wordnet to /root/nltk_data...\n",
            "[nltk_data]   Package wordnet is already up-to-date!\n"
          ]
        }
      ]
    },
    {
      "cell_type": "code",
      "source": [
        "preprocess_tweet(\"An image of a dead animals body part is not the best #marketing approach :/ Especially with #veganism and vegetaria…\")"
      ],
      "metadata": {
        "colab": {
          "base_uri": "https://localhost:8080/",
          "height": 35
        },
        "id": "9LojgBlMt547",
        "outputId": "58fb915f-cf5e-4833-d602-6a65b53775e8"
      },
      "execution_count": 49,
      "outputs": [
        {
          "output_type": "execute_result",
          "data": {
            "text/plain": [
              "'an image of a dead animal body part is not the best approach :/ especially with and vegetaria …'"
            ],
            "application/vnd.google.colaboratory.intrinsic+json": {
              "type": "string"
            }
          },
          "metadata": {},
          "execution_count": 49
        }
      ]
    },
    {
      "cell_type": "markdown",
      "source": [
        "We now create a classifier with the preprocessed tweets."
      ],
      "metadata": {
        "id": "KKtOiKh-uto5"
      }
    },
    {
      "cell_type": "code",
      "source": [
        "vectorizer = TfidfVectorizer(preprocessor=preprocess_tweet)\n",
        "vectors_train = vectorizer.fit_transform(datasets[\"train\"][\"text\"])\n",
        "vectors_test = vectorizer.transform(datasets[\"test\"][\"text\"])\n",
        "print(vectors_train.shape, vectors_test.shape)\n",
        "svm_clf = LinearSVC()\n",
        "\n",
        "svm_clf.fit(vectors_train, datasets[\"train\"][\"label\"])\n",
        "pred = svm_clf.predict(vectors_test)\n",
        "\n",
        "accuracy = metrics.accuracy_score(datasets[\"test\"][\"label\"], svm_predictions)\n",
        "f1_score = metrics.f1_score(datasets[\"test\"][\"label\"], svm_predictions, average='macro')\n",
        "confusion_matrix = metrics.confusion_matrix(datasets[\"test\"][\"label\"], svm_predictions)\n",
        "\n",
        "print(\"Accuracy:\", accuracy)\n",
        "print(\"F1 Score:\", f1_score)\n",
        "print(\"Confusion Matrix:\")\n",
        "print(confusion_matrix)"
      ],
      "metadata": {
        "colab": {
          "base_uri": "https://localhost:8080/"
        },
        "id": "6bbKMGSNuLcM",
        "outputId": "72dbc6ec-4d97-4914-be38-b64a6b3ac2e2"
      },
      "execution_count": 50,
      "outputs": [
        {
          "output_type": "stream",
          "name": "stdout",
          "text": [
            "(45615, 34541) (12284, 34541)\n",
            "Accuracy: 0.5595083034842071\n",
            "F1 Score: 0.537756683103046\n",
            "Confusion Matrix:\n",
            "[[1449 1945  578]\n",
            " [ 778 3905 1254]\n",
            " [ 101  755 1519]]\n"
          ]
        }
      ]
    },
    {
      "cell_type": "markdown",
      "source": [
        "Surprisingly this did not improve the F1 score. We try with the processor and ngrams."
      ],
      "metadata": {
        "id": "ybPr6olWu_8R"
      }
    },
    {
      "cell_type": "code",
      "source": [
        "vectorizer = TfidfVectorizer(preprocessor=preprocess_tweet, ngram_range=(1,7))\n",
        "vectors_train = vectorizer.fit_transform(datasets[\"train\"][\"text\"])\n",
        "vectors_test = vectorizer.transform(datasets[\"test\"][\"text\"])\n",
        "print(vectors_train.shape, vectors_test.shape)\n",
        "svm_clf = LinearSVC()\n",
        "\n",
        "svm_clf.fit(vectors_train, datasets[\"train\"][\"label\"])\n",
        "pred = svm_clf.predict(vectors_test)\n",
        "\n",
        "accuracy = metrics.accuracy_score(datasets[\"test\"][\"label\"], svm_predictions)\n",
        "f1_score = metrics.f1_score(datasets[\"test\"][\"label\"], svm_predictions, average='macro')\n",
        "confusion_matrix = metrics.confusion_matrix(datasets[\"test\"][\"label\"], svm_predictions)\n",
        "\n",
        "print(\"Accuracy:\", accuracy)\n",
        "print(\"F1 Score:\", f1_score)\n",
        "print(\"Confusion Matrix:\")\n",
        "print(confusion_matrix)"
      ],
      "metadata": {
        "colab": {
          "base_uri": "https://localhost:8080/"
        },
        "id": "3DevGsIhvIiE",
        "outputId": "a8e83ddc-7b14-4ca7-b2c4-e10e8fbd7ea6"
      },
      "execution_count": 51,
      "outputs": [
        {
          "output_type": "stream",
          "name": "stdout",
          "text": [
            "(45615, 3255334) (12284, 3255334)\n",
            "Accuracy: 0.5595083034842071\n",
            "F1 Score: 0.537756683103046\n",
            "Confusion Matrix:\n",
            "[[1449 1945  578]\n",
            " [ 778 3905 1254]\n",
            " [ 101  755 1519]]\n"
          ]
        }
      ]
    },
    {
      "cell_type": "markdown",
      "source": [
        "Maybe lemmatisation is counterproductive."
      ],
      "metadata": {
        "id": "eVMo1qiiLIyc"
      }
    },
    {
      "cell_type": "code",
      "source": [
        "# Function to preprocess tweets\n",
        "def preprocess_tweet_no_lemm(tweet):\n",
        "    # Remove URLs\n",
        "    tweet = re.sub(r\"http\\S+|www\\S+|https\\S+\", \"\", tweet, flags=re.MULTILINE)\n",
        "\n",
        "    # Remove usernames and hashtags\n",
        "    tweet = re.sub(r\"@\\w+|\\#\\w+\", \"\", tweet)\n",
        "\n",
        "    # Tokenize the tweet\n",
        "    tokenizer = TweetTokenizer(preserve_case=False, strip_handles=True, reduce_len=True)\n",
        "    tokens = tokenizer.tokenize(tweet)\n",
        "\n",
        "    punctuation = [',', '.', '!', '?', ':', ';', '(', ')', '[', ']', '{', '}']\n",
        "    tokens = [token for token in tokens if token not in punctuation]\n",
        "\n",
        "    # Lemmatize tokens\n",
        "    lemmatizer = WordNetLemmatizer()\n",
        "    tokens = [lemmatizer.lemmatize(token) for token in tokens]\n",
        "\n",
        "    # Join the tokens back into a preprocessed tweet\n",
        "    preprocessed_tweet = \" \".join(tokens)\n",
        "\n",
        "    return preprocessed_tweet"
      ],
      "metadata": {
        "id": "4kCZzs4lLXk3"
      },
      "execution_count": 52,
      "outputs": []
    },
    {
      "cell_type": "code",
      "source": [
        "vectorizer = TfidfVectorizer(preprocessor=preprocess_tweet_no_lemm, ngram_range=(1,7))\n",
        "vectors_train = vectorizer.fit_transform(datasets[\"train\"][\"text\"])\n",
        "vectors_test = vectorizer.transform(datasets[\"test\"][\"text\"])\n",
        "print(vectors_train.shape, vectors_test.shape)\n",
        "svm_clf = LinearSVC()\n",
        "\n",
        "svm_clf.fit(vectors_train, datasets[\"train\"][\"label\"])\n",
        "pred = svm_clf.predict(vectors_test)\n",
        "\n",
        "accuracy = metrics.accuracy_score(datasets[\"test\"][\"label\"], svm_predictions)\n",
        "f1_score = metrics.f1_score(datasets[\"test\"][\"label\"], svm_predictions, average='macro')\n",
        "confusion_matrix = metrics.confusion_matrix(datasets[\"test\"][\"label\"], svm_predictions)\n",
        "\n",
        "print(\"Accuracy:\", accuracy)\n",
        "print(\"F1 Score:\", f1_score)\n",
        "print(\"Confusion Matrix:\")\n",
        "print(confusion_matrix)"
      ],
      "metadata": {
        "colab": {
          "base_uri": "https://localhost:8080/"
        },
        "id": "SqMXVJnfLaJ6",
        "outputId": "5e81f378-e13e-491d-c889-e3392e417256"
      },
      "execution_count": 53,
      "outputs": [
        {
          "output_type": "stream",
          "name": "stdout",
          "text": [
            "(45615, 3255334) (12284, 3255334)\n",
            "Accuracy: 0.5595083034842071\n",
            "F1 Score: 0.537756683103046\n",
            "Confusion Matrix:\n",
            "[[1449 1945  578]\n",
            " [ 778 3905 1254]\n",
            " [ 101  755 1519]]\n"
          ]
        }
      ]
    }
  ],
  "metadata": {
    "kernelspec": {
      "display_name": "base",
      "language": "python",
      "name": "python3"
    },
    "language_info": {
      "codemirror_mode": {
        "name": "ipython",
        "version": 3
      },
      "file_extension": ".py",
      "mimetype": "text/x-python",
      "name": "python",
      "nbconvert_exporter": "python",
      "pygments_lexer": "ipython3",
      "version": "3.9.13"
    },
    "orig_nbformat": 4,
    "colab": {
      "provenance": []
    },
    "widgets": {
      "application/vnd.jupyter.widget-state+json": {
        "24df1d9bc2a44ae7a851769ea1f469b8": {
          "model_module": "@jupyter-widgets/controls",
          "model_name": "VBoxModel",
          "model_module_version": "1.5.0",
          "state": {
            "_dom_classes": [],
            "_model_module": "@jupyter-widgets/controls",
            "_model_module_version": "1.5.0",
            "_model_name": "VBoxModel",
            "_view_count": null,
            "_view_module": "@jupyter-widgets/controls",
            "_view_module_version": "1.5.0",
            "_view_name": "VBoxView",
            "box_style": "",
            "children": [
              "IPY_MODEL_0ed3bd998c954b7898e6f522632e3115",
              "IPY_MODEL_cee6cd827b864fedbc6d904403a334ca",
              "IPY_MODEL_baebb53953144709975f5108bd395001",
              "IPY_MODEL_56ac628360d149a5887d8b56b8397836"
            ],
            "layout": "IPY_MODEL_6b7f1afdc4814f6fbf071f7028358769"
          }
        },
        "117758f1020c45a09f9680e885173745": {
          "model_module": "@jupyter-widgets/controls",
          "model_name": "HTMLModel",
          "model_module_version": "1.5.0",
          "state": {
            "_dom_classes": [],
            "_model_module": "@jupyter-widgets/controls",
            "_model_module_version": "1.5.0",
            "_model_name": "HTMLModel",
            "_view_count": null,
            "_view_module": "@jupyter-widgets/controls",
            "_view_module_version": "1.5.0",
            "_view_name": "HTMLView",
            "description": "",
            "description_tooltip": null,
            "layout": "IPY_MODEL_a554dd4853774941bec4c934f5e40ee2",
            "placeholder": "​",
            "style": "IPY_MODEL_0fc4b3220cf74d279cc93db9bfb6b4a0",
            "value": "<center> <img\nsrc=https://huggingface.co/front/assets/huggingface_logo-noborder.svg\nalt='Hugging Face'> <br> Copy a token from <a\nhref=\"https://huggingface.co/settings/tokens\" target=\"_blank\">your Hugging Face\ntokens page</a> and paste it below. <br> Immediately click login after copying\nyour token or it might be stored in plain text in this notebook file. </center>"
          }
        },
        "76d564be67714b909065c6884ed0ddaf": {
          "model_module": "@jupyter-widgets/controls",
          "model_name": "PasswordModel",
          "model_module_version": "1.5.0",
          "state": {
            "_dom_classes": [],
            "_model_module": "@jupyter-widgets/controls",
            "_model_module_version": "1.5.0",
            "_model_name": "PasswordModel",
            "_view_count": null,
            "_view_module": "@jupyter-widgets/controls",
            "_view_module_version": "1.5.0",
            "_view_name": "PasswordView",
            "continuous_update": true,
            "description": "Token:",
            "description_tooltip": null,
            "disabled": false,
            "layout": "IPY_MODEL_3337035f14d04f6287319a796a436bbd",
            "placeholder": "​",
            "style": "IPY_MODEL_4debc21fcb97486b9ec37b3e914efce3",
            "value": ""
          }
        },
        "f7b33536524341819bbc7739be707dc2": {
          "model_module": "@jupyter-widgets/controls",
          "model_name": "CheckboxModel",
          "model_module_version": "1.5.0",
          "state": {
            "_dom_classes": [],
            "_model_module": "@jupyter-widgets/controls",
            "_model_module_version": "1.5.0",
            "_model_name": "CheckboxModel",
            "_view_count": null,
            "_view_module": "@jupyter-widgets/controls",
            "_view_module_version": "1.5.0",
            "_view_name": "CheckboxView",
            "description": "Add token as git credential?",
            "description_tooltip": null,
            "disabled": false,
            "indent": true,
            "layout": "IPY_MODEL_aef21320034c4218ba6ddb6da144008f",
            "style": "IPY_MODEL_6823f329773241e5853178dde8fed436",
            "value": true
          }
        },
        "6f76142e67b44eb49cc00a501ba4a4a2": {
          "model_module": "@jupyter-widgets/controls",
          "model_name": "ButtonModel",
          "model_module_version": "1.5.0",
          "state": {
            "_dom_classes": [],
            "_model_module": "@jupyter-widgets/controls",
            "_model_module_version": "1.5.0",
            "_model_name": "ButtonModel",
            "_view_count": null,
            "_view_module": "@jupyter-widgets/controls",
            "_view_module_version": "1.5.0",
            "_view_name": "ButtonView",
            "button_style": "",
            "description": "Login",
            "disabled": false,
            "icon": "",
            "layout": "IPY_MODEL_d81237c366e3407f8687a60f1d876ede",
            "style": "IPY_MODEL_1b75f218804b4a6a9b71b4ccf427a1de",
            "tooltip": ""
          }
        },
        "ea77cbd8812844fbaf8c2c73354413d9": {
          "model_module": "@jupyter-widgets/controls",
          "model_name": "HTMLModel",
          "model_module_version": "1.5.0",
          "state": {
            "_dom_classes": [],
            "_model_module": "@jupyter-widgets/controls",
            "_model_module_version": "1.5.0",
            "_model_name": "HTMLModel",
            "_view_count": null,
            "_view_module": "@jupyter-widgets/controls",
            "_view_module_version": "1.5.0",
            "_view_name": "HTMLView",
            "description": "",
            "description_tooltip": null,
            "layout": "IPY_MODEL_57c993afa52848568e72b03ab6d3b585",
            "placeholder": "​",
            "style": "IPY_MODEL_9cbe6dd4b07549df9d2853f5d2d8cd57",
            "value": "\n<b>Pro Tip:</b> If you don't already have one, you can create a dedicated\n'notebooks' token with 'write' access, that you can then easily reuse for all\nnotebooks. </center>"
          }
        },
        "6b7f1afdc4814f6fbf071f7028358769": {
          "model_module": "@jupyter-widgets/base",
          "model_name": "LayoutModel",
          "model_module_version": "1.2.0",
          "state": {
            "_model_module": "@jupyter-widgets/base",
            "_model_module_version": "1.2.0",
            "_model_name": "LayoutModel",
            "_view_count": null,
            "_view_module": "@jupyter-widgets/base",
            "_view_module_version": "1.2.0",
            "_view_name": "LayoutView",
            "align_content": null,
            "align_items": "center",
            "align_self": null,
            "border": null,
            "bottom": null,
            "display": "flex",
            "flex": null,
            "flex_flow": "column",
            "grid_area": null,
            "grid_auto_columns": null,
            "grid_auto_flow": null,
            "grid_auto_rows": null,
            "grid_column": null,
            "grid_gap": null,
            "grid_row": null,
            "grid_template_areas": null,
            "grid_template_columns": null,
            "grid_template_rows": null,
            "height": null,
            "justify_content": null,
            "justify_items": null,
            "left": null,
            "margin": null,
            "max_height": null,
            "max_width": null,
            "min_height": null,
            "min_width": null,
            "object_fit": null,
            "object_position": null,
            "order": null,
            "overflow": null,
            "overflow_x": null,
            "overflow_y": null,
            "padding": null,
            "right": null,
            "top": null,
            "visibility": null,
            "width": "50%"
          }
        },
        "a554dd4853774941bec4c934f5e40ee2": {
          "model_module": "@jupyter-widgets/base",
          "model_name": "LayoutModel",
          "model_module_version": "1.2.0",
          "state": {
            "_model_module": "@jupyter-widgets/base",
            "_model_module_version": "1.2.0",
            "_model_name": "LayoutModel",
            "_view_count": null,
            "_view_module": "@jupyter-widgets/base",
            "_view_module_version": "1.2.0",
            "_view_name": "LayoutView",
            "align_content": null,
            "align_items": null,
            "align_self": null,
            "border": null,
            "bottom": null,
            "display": null,
            "flex": null,
            "flex_flow": null,
            "grid_area": null,
            "grid_auto_columns": null,
            "grid_auto_flow": null,
            "grid_auto_rows": null,
            "grid_column": null,
            "grid_gap": null,
            "grid_row": null,
            "grid_template_areas": null,
            "grid_template_columns": null,
            "grid_template_rows": null,
            "height": null,
            "justify_content": null,
            "justify_items": null,
            "left": null,
            "margin": null,
            "max_height": null,
            "max_width": null,
            "min_height": null,
            "min_width": null,
            "object_fit": null,
            "object_position": null,
            "order": null,
            "overflow": null,
            "overflow_x": null,
            "overflow_y": null,
            "padding": null,
            "right": null,
            "top": null,
            "visibility": null,
            "width": null
          }
        },
        "0fc4b3220cf74d279cc93db9bfb6b4a0": {
          "model_module": "@jupyter-widgets/controls",
          "model_name": "DescriptionStyleModel",
          "model_module_version": "1.5.0",
          "state": {
            "_model_module": "@jupyter-widgets/controls",
            "_model_module_version": "1.5.0",
            "_model_name": "DescriptionStyleModel",
            "_view_count": null,
            "_view_module": "@jupyter-widgets/base",
            "_view_module_version": "1.2.0",
            "_view_name": "StyleView",
            "description_width": ""
          }
        },
        "3337035f14d04f6287319a796a436bbd": {
          "model_module": "@jupyter-widgets/base",
          "model_name": "LayoutModel",
          "model_module_version": "1.2.0",
          "state": {
            "_model_module": "@jupyter-widgets/base",
            "_model_module_version": "1.2.0",
            "_model_name": "LayoutModel",
            "_view_count": null,
            "_view_module": "@jupyter-widgets/base",
            "_view_module_version": "1.2.0",
            "_view_name": "LayoutView",
            "align_content": null,
            "align_items": null,
            "align_self": null,
            "border": null,
            "bottom": null,
            "display": null,
            "flex": null,
            "flex_flow": null,
            "grid_area": null,
            "grid_auto_columns": null,
            "grid_auto_flow": null,
            "grid_auto_rows": null,
            "grid_column": null,
            "grid_gap": null,
            "grid_row": null,
            "grid_template_areas": null,
            "grid_template_columns": null,
            "grid_template_rows": null,
            "height": null,
            "justify_content": null,
            "justify_items": null,
            "left": null,
            "margin": null,
            "max_height": null,
            "max_width": null,
            "min_height": null,
            "min_width": null,
            "object_fit": null,
            "object_position": null,
            "order": null,
            "overflow": null,
            "overflow_x": null,
            "overflow_y": null,
            "padding": null,
            "right": null,
            "top": null,
            "visibility": null,
            "width": null
          }
        },
        "4debc21fcb97486b9ec37b3e914efce3": {
          "model_module": "@jupyter-widgets/controls",
          "model_name": "DescriptionStyleModel",
          "model_module_version": "1.5.0",
          "state": {
            "_model_module": "@jupyter-widgets/controls",
            "_model_module_version": "1.5.0",
            "_model_name": "DescriptionStyleModel",
            "_view_count": null,
            "_view_module": "@jupyter-widgets/base",
            "_view_module_version": "1.2.0",
            "_view_name": "StyleView",
            "description_width": ""
          }
        },
        "aef21320034c4218ba6ddb6da144008f": {
          "model_module": "@jupyter-widgets/base",
          "model_name": "LayoutModel",
          "model_module_version": "1.2.0",
          "state": {
            "_model_module": "@jupyter-widgets/base",
            "_model_module_version": "1.2.0",
            "_model_name": "LayoutModel",
            "_view_count": null,
            "_view_module": "@jupyter-widgets/base",
            "_view_module_version": "1.2.0",
            "_view_name": "LayoutView",
            "align_content": null,
            "align_items": null,
            "align_self": null,
            "border": null,
            "bottom": null,
            "display": null,
            "flex": null,
            "flex_flow": null,
            "grid_area": null,
            "grid_auto_columns": null,
            "grid_auto_flow": null,
            "grid_auto_rows": null,
            "grid_column": null,
            "grid_gap": null,
            "grid_row": null,
            "grid_template_areas": null,
            "grid_template_columns": null,
            "grid_template_rows": null,
            "height": null,
            "justify_content": null,
            "justify_items": null,
            "left": null,
            "margin": null,
            "max_height": null,
            "max_width": null,
            "min_height": null,
            "min_width": null,
            "object_fit": null,
            "object_position": null,
            "order": null,
            "overflow": null,
            "overflow_x": null,
            "overflow_y": null,
            "padding": null,
            "right": null,
            "top": null,
            "visibility": null,
            "width": null
          }
        },
        "6823f329773241e5853178dde8fed436": {
          "model_module": "@jupyter-widgets/controls",
          "model_name": "DescriptionStyleModel",
          "model_module_version": "1.5.0",
          "state": {
            "_model_module": "@jupyter-widgets/controls",
            "_model_module_version": "1.5.0",
            "_model_name": "DescriptionStyleModel",
            "_view_count": null,
            "_view_module": "@jupyter-widgets/base",
            "_view_module_version": "1.2.0",
            "_view_name": "StyleView",
            "description_width": ""
          }
        },
        "d81237c366e3407f8687a60f1d876ede": {
          "model_module": "@jupyter-widgets/base",
          "model_name": "LayoutModel",
          "model_module_version": "1.2.0",
          "state": {
            "_model_module": "@jupyter-widgets/base",
            "_model_module_version": "1.2.0",
            "_model_name": "LayoutModel",
            "_view_count": null,
            "_view_module": "@jupyter-widgets/base",
            "_view_module_version": "1.2.0",
            "_view_name": "LayoutView",
            "align_content": null,
            "align_items": null,
            "align_self": null,
            "border": null,
            "bottom": null,
            "display": null,
            "flex": null,
            "flex_flow": null,
            "grid_area": null,
            "grid_auto_columns": null,
            "grid_auto_flow": null,
            "grid_auto_rows": null,
            "grid_column": null,
            "grid_gap": null,
            "grid_row": null,
            "grid_template_areas": null,
            "grid_template_columns": null,
            "grid_template_rows": null,
            "height": null,
            "justify_content": null,
            "justify_items": null,
            "left": null,
            "margin": null,
            "max_height": null,
            "max_width": null,
            "min_height": null,
            "min_width": null,
            "object_fit": null,
            "object_position": null,
            "order": null,
            "overflow": null,
            "overflow_x": null,
            "overflow_y": null,
            "padding": null,
            "right": null,
            "top": null,
            "visibility": null,
            "width": null
          }
        },
        "1b75f218804b4a6a9b71b4ccf427a1de": {
          "model_module": "@jupyter-widgets/controls",
          "model_name": "ButtonStyleModel",
          "model_module_version": "1.5.0",
          "state": {
            "_model_module": "@jupyter-widgets/controls",
            "_model_module_version": "1.5.0",
            "_model_name": "ButtonStyleModel",
            "_view_count": null,
            "_view_module": "@jupyter-widgets/base",
            "_view_module_version": "1.2.0",
            "_view_name": "StyleView",
            "button_color": null,
            "font_weight": ""
          }
        },
        "57c993afa52848568e72b03ab6d3b585": {
          "model_module": "@jupyter-widgets/base",
          "model_name": "LayoutModel",
          "model_module_version": "1.2.0",
          "state": {
            "_model_module": "@jupyter-widgets/base",
            "_model_module_version": "1.2.0",
            "_model_name": "LayoutModel",
            "_view_count": null,
            "_view_module": "@jupyter-widgets/base",
            "_view_module_version": "1.2.0",
            "_view_name": "LayoutView",
            "align_content": null,
            "align_items": null,
            "align_self": null,
            "border": null,
            "bottom": null,
            "display": null,
            "flex": null,
            "flex_flow": null,
            "grid_area": null,
            "grid_auto_columns": null,
            "grid_auto_flow": null,
            "grid_auto_rows": null,
            "grid_column": null,
            "grid_gap": null,
            "grid_row": null,
            "grid_template_areas": null,
            "grid_template_columns": null,
            "grid_template_rows": null,
            "height": null,
            "justify_content": null,
            "justify_items": null,
            "left": null,
            "margin": null,
            "max_height": null,
            "max_width": null,
            "min_height": null,
            "min_width": null,
            "object_fit": null,
            "object_position": null,
            "order": null,
            "overflow": null,
            "overflow_x": null,
            "overflow_y": null,
            "padding": null,
            "right": null,
            "top": null,
            "visibility": null,
            "width": null
          }
        },
        "9cbe6dd4b07549df9d2853f5d2d8cd57": {
          "model_module": "@jupyter-widgets/controls",
          "model_name": "DescriptionStyleModel",
          "model_module_version": "1.5.0",
          "state": {
            "_model_module": "@jupyter-widgets/controls",
            "_model_module_version": "1.5.0",
            "_model_name": "DescriptionStyleModel",
            "_view_count": null,
            "_view_module": "@jupyter-widgets/base",
            "_view_module_version": "1.2.0",
            "_view_name": "StyleView",
            "description_width": ""
          }
        },
        "dd4654e5d55f45f5927451302c592efd": {
          "model_module": "@jupyter-widgets/controls",
          "model_name": "LabelModel",
          "model_module_version": "1.5.0",
          "state": {
            "_dom_classes": [],
            "_model_module": "@jupyter-widgets/controls",
            "_model_module_version": "1.5.0",
            "_model_name": "LabelModel",
            "_view_count": null,
            "_view_module": "@jupyter-widgets/controls",
            "_view_module_version": "1.5.0",
            "_view_name": "LabelView",
            "description": "",
            "description_tooltip": null,
            "layout": "IPY_MODEL_c3db97b17d424032b57e0d9d5d610a8e",
            "placeholder": "​",
            "style": "IPY_MODEL_603fded16a114124a7123d12c4a01ee6",
            "value": "Connecting..."
          }
        },
        "c3db97b17d424032b57e0d9d5d610a8e": {
          "model_module": "@jupyter-widgets/base",
          "model_name": "LayoutModel",
          "model_module_version": "1.2.0",
          "state": {
            "_model_module": "@jupyter-widgets/base",
            "_model_module_version": "1.2.0",
            "_model_name": "LayoutModel",
            "_view_count": null,
            "_view_module": "@jupyter-widgets/base",
            "_view_module_version": "1.2.0",
            "_view_name": "LayoutView",
            "align_content": null,
            "align_items": null,
            "align_self": null,
            "border": null,
            "bottom": null,
            "display": null,
            "flex": null,
            "flex_flow": null,
            "grid_area": null,
            "grid_auto_columns": null,
            "grid_auto_flow": null,
            "grid_auto_rows": null,
            "grid_column": null,
            "grid_gap": null,
            "grid_row": null,
            "grid_template_areas": null,
            "grid_template_columns": null,
            "grid_template_rows": null,
            "height": null,
            "justify_content": null,
            "justify_items": null,
            "left": null,
            "margin": null,
            "max_height": null,
            "max_width": null,
            "min_height": null,
            "min_width": null,
            "object_fit": null,
            "object_position": null,
            "order": null,
            "overflow": null,
            "overflow_x": null,
            "overflow_y": null,
            "padding": null,
            "right": null,
            "top": null,
            "visibility": null,
            "width": null
          }
        },
        "603fded16a114124a7123d12c4a01ee6": {
          "model_module": "@jupyter-widgets/controls",
          "model_name": "DescriptionStyleModel",
          "model_module_version": "1.5.0",
          "state": {
            "_model_module": "@jupyter-widgets/controls",
            "_model_module_version": "1.5.0",
            "_model_name": "DescriptionStyleModel",
            "_view_count": null,
            "_view_module": "@jupyter-widgets/base",
            "_view_module_version": "1.2.0",
            "_view_name": "StyleView",
            "description_width": ""
          }
        },
        "0ed3bd998c954b7898e6f522632e3115": {
          "model_module": "@jupyter-widgets/controls",
          "model_name": "LabelModel",
          "model_module_version": "1.5.0",
          "state": {
            "_dom_classes": [],
            "_model_module": "@jupyter-widgets/controls",
            "_model_module_version": "1.5.0",
            "_model_name": "LabelModel",
            "_view_count": null,
            "_view_module": "@jupyter-widgets/controls",
            "_view_module_version": "1.5.0",
            "_view_name": "LabelView",
            "description": "",
            "description_tooltip": null,
            "layout": "IPY_MODEL_03988954f14248ca9203d64f1fc84e24",
            "placeholder": "​",
            "style": "IPY_MODEL_1f27891efc6d43329c9930779751e313",
            "value": "Token is valid (permission: write)."
          }
        },
        "cee6cd827b864fedbc6d904403a334ca": {
          "model_module": "@jupyter-widgets/controls",
          "model_name": "LabelModel",
          "model_module_version": "1.5.0",
          "state": {
            "_dom_classes": [],
            "_model_module": "@jupyter-widgets/controls",
            "_model_module_version": "1.5.0",
            "_model_name": "LabelModel",
            "_view_count": null,
            "_view_module": "@jupyter-widgets/controls",
            "_view_module_version": "1.5.0",
            "_view_name": "LabelView",
            "description": "",
            "description_tooltip": null,
            "layout": "IPY_MODEL_2f725788687d4064b14a3b524a8dd0c1",
            "placeholder": "​",
            "style": "IPY_MODEL_e8f561208c36476cb56e03cc81580b0a",
            "value": "Your token has been saved in your configured git credential helpers (store)."
          }
        },
        "baebb53953144709975f5108bd395001": {
          "model_module": "@jupyter-widgets/controls",
          "model_name": "LabelModel",
          "model_module_version": "1.5.0",
          "state": {
            "_dom_classes": [],
            "_model_module": "@jupyter-widgets/controls",
            "_model_module_version": "1.5.0",
            "_model_name": "LabelModel",
            "_view_count": null,
            "_view_module": "@jupyter-widgets/controls",
            "_view_module_version": "1.5.0",
            "_view_name": "LabelView",
            "description": "",
            "description_tooltip": null,
            "layout": "IPY_MODEL_27532ee5bde34fb9ac3b85ed6d671750",
            "placeholder": "​",
            "style": "IPY_MODEL_40da692ed2c540e28458cd70b995fcb7",
            "value": "Your token has been saved to /root/.cache/huggingface/token"
          }
        },
        "56ac628360d149a5887d8b56b8397836": {
          "model_module": "@jupyter-widgets/controls",
          "model_name": "LabelModel",
          "model_module_version": "1.5.0",
          "state": {
            "_dom_classes": [],
            "_model_module": "@jupyter-widgets/controls",
            "_model_module_version": "1.5.0",
            "_model_name": "LabelModel",
            "_view_count": null,
            "_view_module": "@jupyter-widgets/controls",
            "_view_module_version": "1.5.0",
            "_view_name": "LabelView",
            "description": "",
            "description_tooltip": null,
            "layout": "IPY_MODEL_2b1adea6dcd34217a671baad44ad761e",
            "placeholder": "​",
            "style": "IPY_MODEL_66f78e7c7992422aa14e4f73f2853506",
            "value": "Login successful"
          }
        },
        "03988954f14248ca9203d64f1fc84e24": {
          "model_module": "@jupyter-widgets/base",
          "model_name": "LayoutModel",
          "model_module_version": "1.2.0",
          "state": {
            "_model_module": "@jupyter-widgets/base",
            "_model_module_version": "1.2.0",
            "_model_name": "LayoutModel",
            "_view_count": null,
            "_view_module": "@jupyter-widgets/base",
            "_view_module_version": "1.2.0",
            "_view_name": "LayoutView",
            "align_content": null,
            "align_items": null,
            "align_self": null,
            "border": null,
            "bottom": null,
            "display": null,
            "flex": null,
            "flex_flow": null,
            "grid_area": null,
            "grid_auto_columns": null,
            "grid_auto_flow": null,
            "grid_auto_rows": null,
            "grid_column": null,
            "grid_gap": null,
            "grid_row": null,
            "grid_template_areas": null,
            "grid_template_columns": null,
            "grid_template_rows": null,
            "height": null,
            "justify_content": null,
            "justify_items": null,
            "left": null,
            "margin": null,
            "max_height": null,
            "max_width": null,
            "min_height": null,
            "min_width": null,
            "object_fit": null,
            "object_position": null,
            "order": null,
            "overflow": null,
            "overflow_x": null,
            "overflow_y": null,
            "padding": null,
            "right": null,
            "top": null,
            "visibility": null,
            "width": null
          }
        },
        "1f27891efc6d43329c9930779751e313": {
          "model_module": "@jupyter-widgets/controls",
          "model_name": "DescriptionStyleModel",
          "model_module_version": "1.5.0",
          "state": {
            "_model_module": "@jupyter-widgets/controls",
            "_model_module_version": "1.5.0",
            "_model_name": "DescriptionStyleModel",
            "_view_count": null,
            "_view_module": "@jupyter-widgets/base",
            "_view_module_version": "1.2.0",
            "_view_name": "StyleView",
            "description_width": ""
          }
        },
        "2f725788687d4064b14a3b524a8dd0c1": {
          "model_module": "@jupyter-widgets/base",
          "model_name": "LayoutModel",
          "model_module_version": "1.2.0",
          "state": {
            "_model_module": "@jupyter-widgets/base",
            "_model_module_version": "1.2.0",
            "_model_name": "LayoutModel",
            "_view_count": null,
            "_view_module": "@jupyter-widgets/base",
            "_view_module_version": "1.2.0",
            "_view_name": "LayoutView",
            "align_content": null,
            "align_items": null,
            "align_self": null,
            "border": null,
            "bottom": null,
            "display": null,
            "flex": null,
            "flex_flow": null,
            "grid_area": null,
            "grid_auto_columns": null,
            "grid_auto_flow": null,
            "grid_auto_rows": null,
            "grid_column": null,
            "grid_gap": null,
            "grid_row": null,
            "grid_template_areas": null,
            "grid_template_columns": null,
            "grid_template_rows": null,
            "height": null,
            "justify_content": null,
            "justify_items": null,
            "left": null,
            "margin": null,
            "max_height": null,
            "max_width": null,
            "min_height": null,
            "min_width": null,
            "object_fit": null,
            "object_position": null,
            "order": null,
            "overflow": null,
            "overflow_x": null,
            "overflow_y": null,
            "padding": null,
            "right": null,
            "top": null,
            "visibility": null,
            "width": null
          }
        },
        "e8f561208c36476cb56e03cc81580b0a": {
          "model_module": "@jupyter-widgets/controls",
          "model_name": "DescriptionStyleModel",
          "model_module_version": "1.5.0",
          "state": {
            "_model_module": "@jupyter-widgets/controls",
            "_model_module_version": "1.5.0",
            "_model_name": "DescriptionStyleModel",
            "_view_count": null,
            "_view_module": "@jupyter-widgets/base",
            "_view_module_version": "1.2.0",
            "_view_name": "StyleView",
            "description_width": ""
          }
        },
        "27532ee5bde34fb9ac3b85ed6d671750": {
          "model_module": "@jupyter-widgets/base",
          "model_name": "LayoutModel",
          "model_module_version": "1.2.0",
          "state": {
            "_model_module": "@jupyter-widgets/base",
            "_model_module_version": "1.2.0",
            "_model_name": "LayoutModel",
            "_view_count": null,
            "_view_module": "@jupyter-widgets/base",
            "_view_module_version": "1.2.0",
            "_view_name": "LayoutView",
            "align_content": null,
            "align_items": null,
            "align_self": null,
            "border": null,
            "bottom": null,
            "display": null,
            "flex": null,
            "flex_flow": null,
            "grid_area": null,
            "grid_auto_columns": null,
            "grid_auto_flow": null,
            "grid_auto_rows": null,
            "grid_column": null,
            "grid_gap": null,
            "grid_row": null,
            "grid_template_areas": null,
            "grid_template_columns": null,
            "grid_template_rows": null,
            "height": null,
            "justify_content": null,
            "justify_items": null,
            "left": null,
            "margin": null,
            "max_height": null,
            "max_width": null,
            "min_height": null,
            "min_width": null,
            "object_fit": null,
            "object_position": null,
            "order": null,
            "overflow": null,
            "overflow_x": null,
            "overflow_y": null,
            "padding": null,
            "right": null,
            "top": null,
            "visibility": null,
            "width": null
          }
        },
        "40da692ed2c540e28458cd70b995fcb7": {
          "model_module": "@jupyter-widgets/controls",
          "model_name": "DescriptionStyleModel",
          "model_module_version": "1.5.0",
          "state": {
            "_model_module": "@jupyter-widgets/controls",
            "_model_module_version": "1.5.0",
            "_model_name": "DescriptionStyleModel",
            "_view_count": null,
            "_view_module": "@jupyter-widgets/base",
            "_view_module_version": "1.2.0",
            "_view_name": "StyleView",
            "description_width": ""
          }
        },
        "2b1adea6dcd34217a671baad44ad761e": {
          "model_module": "@jupyter-widgets/base",
          "model_name": "LayoutModel",
          "model_module_version": "1.2.0",
          "state": {
            "_model_module": "@jupyter-widgets/base",
            "_model_module_version": "1.2.0",
            "_model_name": "LayoutModel",
            "_view_count": null,
            "_view_module": "@jupyter-widgets/base",
            "_view_module_version": "1.2.0",
            "_view_name": "LayoutView",
            "align_content": null,
            "align_items": null,
            "align_self": null,
            "border": null,
            "bottom": null,
            "display": null,
            "flex": null,
            "flex_flow": null,
            "grid_area": null,
            "grid_auto_columns": null,
            "grid_auto_flow": null,
            "grid_auto_rows": null,
            "grid_column": null,
            "grid_gap": null,
            "grid_row": null,
            "grid_template_areas": null,
            "grid_template_columns": null,
            "grid_template_rows": null,
            "height": null,
            "justify_content": null,
            "justify_items": null,
            "left": null,
            "margin": null,
            "max_height": null,
            "max_width": null,
            "min_height": null,
            "min_width": null,
            "object_fit": null,
            "object_position": null,
            "order": null,
            "overflow": null,
            "overflow_x": null,
            "overflow_y": null,
            "padding": null,
            "right": null,
            "top": null,
            "visibility": null,
            "width": null
          }
        },
        "66f78e7c7992422aa14e4f73f2853506": {
          "model_module": "@jupyter-widgets/controls",
          "model_name": "DescriptionStyleModel",
          "model_module_version": "1.5.0",
          "state": {
            "_model_module": "@jupyter-widgets/controls",
            "_model_module_version": "1.5.0",
            "_model_name": "DescriptionStyleModel",
            "_view_count": null,
            "_view_module": "@jupyter-widgets/base",
            "_view_module_version": "1.2.0",
            "_view_name": "StyleView",
            "description_width": ""
          }
        },
        "c0b878840f42426391cd4b01542c96ba": {
          "model_module": "@jupyter-widgets/controls",
          "model_name": "HBoxModel",
          "model_module_version": "1.5.0",
          "state": {
            "_dom_classes": [],
            "_model_module": "@jupyter-widgets/controls",
            "_model_module_version": "1.5.0",
            "_model_name": "HBoxModel",
            "_view_count": null,
            "_view_module": "@jupyter-widgets/controls",
            "_view_module_version": "1.5.0",
            "_view_name": "HBoxView",
            "box_style": "",
            "children": [
              "IPY_MODEL_8b41b6ce321b4c8bb6fff56a8d1e3d87",
              "IPY_MODEL_5c6ee7e56c104a0d921639178b59deb5",
              "IPY_MODEL_f2a13bb9215f452093bca2b63926233d"
            ],
            "layout": "IPY_MODEL_a8ecd871daf6448d811ce82dbefcbb82"
          }
        },
        "8b41b6ce321b4c8bb6fff56a8d1e3d87": {
          "model_module": "@jupyter-widgets/controls",
          "model_name": "HTMLModel",
          "model_module_version": "1.5.0",
          "state": {
            "_dom_classes": [],
            "_model_module": "@jupyter-widgets/controls",
            "_model_module_version": "1.5.0",
            "_model_name": "HTMLModel",
            "_view_count": null,
            "_view_module": "@jupyter-widgets/controls",
            "_view_module_version": "1.5.0",
            "_view_name": "HTMLView",
            "description": "",
            "description_tooltip": null,
            "layout": "IPY_MODEL_d5c55c19e16e487c8c9bf8aa93bdda2f",
            "placeholder": "​",
            "style": "IPY_MODEL_2979899356ab41b7a62523329d12eba9",
            "value": "100%"
          }
        },
        "5c6ee7e56c104a0d921639178b59deb5": {
          "model_module": "@jupyter-widgets/controls",
          "model_name": "FloatProgressModel",
          "model_module_version": "1.5.0",
          "state": {
            "_dom_classes": [],
            "_model_module": "@jupyter-widgets/controls",
            "_model_module_version": "1.5.0",
            "_model_name": "FloatProgressModel",
            "_view_count": null,
            "_view_module": "@jupyter-widgets/controls",
            "_view_module_version": "1.5.0",
            "_view_name": "ProgressView",
            "bar_style": "success",
            "description": "",
            "description_tooltip": null,
            "layout": "IPY_MODEL_7d5a4e5e6289453b85d09a4223793157",
            "max": 3,
            "min": 0,
            "orientation": "horizontal",
            "style": "IPY_MODEL_c1afba94b48b4ad2ae8dd70719fb42b8",
            "value": 3
          }
        },
        "f2a13bb9215f452093bca2b63926233d": {
          "model_module": "@jupyter-widgets/controls",
          "model_name": "HTMLModel",
          "model_module_version": "1.5.0",
          "state": {
            "_dom_classes": [],
            "_model_module": "@jupyter-widgets/controls",
            "_model_module_version": "1.5.0",
            "_model_name": "HTMLModel",
            "_view_count": null,
            "_view_module": "@jupyter-widgets/controls",
            "_view_module_version": "1.5.0",
            "_view_name": "HTMLView",
            "description": "",
            "description_tooltip": null,
            "layout": "IPY_MODEL_c9601ac169da4d808a18a3fd167eaadb",
            "placeholder": "​",
            "style": "IPY_MODEL_4158fa7061fe4139824f66e007103959",
            "value": " 3/3 [00:00&lt;00:00,  6.65it/s]"
          }
        },
        "a8ecd871daf6448d811ce82dbefcbb82": {
          "model_module": "@jupyter-widgets/base",
          "model_name": "LayoutModel",
          "model_module_version": "1.2.0",
          "state": {
            "_model_module": "@jupyter-widgets/base",
            "_model_module_version": "1.2.0",
            "_model_name": "LayoutModel",
            "_view_count": null,
            "_view_module": "@jupyter-widgets/base",
            "_view_module_version": "1.2.0",
            "_view_name": "LayoutView",
            "align_content": null,
            "align_items": null,
            "align_self": null,
            "border": null,
            "bottom": null,
            "display": null,
            "flex": null,
            "flex_flow": null,
            "grid_area": null,
            "grid_auto_columns": null,
            "grid_auto_flow": null,
            "grid_auto_rows": null,
            "grid_column": null,
            "grid_gap": null,
            "grid_row": null,
            "grid_template_areas": null,
            "grid_template_columns": null,
            "grid_template_rows": null,
            "height": null,
            "justify_content": null,
            "justify_items": null,
            "left": null,
            "margin": null,
            "max_height": null,
            "max_width": null,
            "min_height": null,
            "min_width": null,
            "object_fit": null,
            "object_position": null,
            "order": null,
            "overflow": null,
            "overflow_x": null,
            "overflow_y": null,
            "padding": null,
            "right": null,
            "top": null,
            "visibility": null,
            "width": null
          }
        },
        "d5c55c19e16e487c8c9bf8aa93bdda2f": {
          "model_module": "@jupyter-widgets/base",
          "model_name": "LayoutModel",
          "model_module_version": "1.2.0",
          "state": {
            "_model_module": "@jupyter-widgets/base",
            "_model_module_version": "1.2.0",
            "_model_name": "LayoutModel",
            "_view_count": null,
            "_view_module": "@jupyter-widgets/base",
            "_view_module_version": "1.2.0",
            "_view_name": "LayoutView",
            "align_content": null,
            "align_items": null,
            "align_self": null,
            "border": null,
            "bottom": null,
            "display": null,
            "flex": null,
            "flex_flow": null,
            "grid_area": null,
            "grid_auto_columns": null,
            "grid_auto_flow": null,
            "grid_auto_rows": null,
            "grid_column": null,
            "grid_gap": null,
            "grid_row": null,
            "grid_template_areas": null,
            "grid_template_columns": null,
            "grid_template_rows": null,
            "height": null,
            "justify_content": null,
            "justify_items": null,
            "left": null,
            "margin": null,
            "max_height": null,
            "max_width": null,
            "min_height": null,
            "min_width": null,
            "object_fit": null,
            "object_position": null,
            "order": null,
            "overflow": null,
            "overflow_x": null,
            "overflow_y": null,
            "padding": null,
            "right": null,
            "top": null,
            "visibility": null,
            "width": null
          }
        },
        "2979899356ab41b7a62523329d12eba9": {
          "model_module": "@jupyter-widgets/controls",
          "model_name": "DescriptionStyleModel",
          "model_module_version": "1.5.0",
          "state": {
            "_model_module": "@jupyter-widgets/controls",
            "_model_module_version": "1.5.0",
            "_model_name": "DescriptionStyleModel",
            "_view_count": null,
            "_view_module": "@jupyter-widgets/base",
            "_view_module_version": "1.2.0",
            "_view_name": "StyleView",
            "description_width": ""
          }
        },
        "7d5a4e5e6289453b85d09a4223793157": {
          "model_module": "@jupyter-widgets/base",
          "model_name": "LayoutModel",
          "model_module_version": "1.2.0",
          "state": {
            "_model_module": "@jupyter-widgets/base",
            "_model_module_version": "1.2.0",
            "_model_name": "LayoutModel",
            "_view_count": null,
            "_view_module": "@jupyter-widgets/base",
            "_view_module_version": "1.2.0",
            "_view_name": "LayoutView",
            "align_content": null,
            "align_items": null,
            "align_self": null,
            "border": null,
            "bottom": null,
            "display": null,
            "flex": null,
            "flex_flow": null,
            "grid_area": null,
            "grid_auto_columns": null,
            "grid_auto_flow": null,
            "grid_auto_rows": null,
            "grid_column": null,
            "grid_gap": null,
            "grid_row": null,
            "grid_template_areas": null,
            "grid_template_columns": null,
            "grid_template_rows": null,
            "height": null,
            "justify_content": null,
            "justify_items": null,
            "left": null,
            "margin": null,
            "max_height": null,
            "max_width": null,
            "min_height": null,
            "min_width": null,
            "object_fit": null,
            "object_position": null,
            "order": null,
            "overflow": null,
            "overflow_x": null,
            "overflow_y": null,
            "padding": null,
            "right": null,
            "top": null,
            "visibility": null,
            "width": null
          }
        },
        "c1afba94b48b4ad2ae8dd70719fb42b8": {
          "model_module": "@jupyter-widgets/controls",
          "model_name": "ProgressStyleModel",
          "model_module_version": "1.5.0",
          "state": {
            "_model_module": "@jupyter-widgets/controls",
            "_model_module_version": "1.5.0",
            "_model_name": "ProgressStyleModel",
            "_view_count": null,
            "_view_module": "@jupyter-widgets/base",
            "_view_module_version": "1.2.0",
            "_view_name": "StyleView",
            "bar_color": null,
            "description_width": ""
          }
        },
        "c9601ac169da4d808a18a3fd167eaadb": {
          "model_module": "@jupyter-widgets/base",
          "model_name": "LayoutModel",
          "model_module_version": "1.2.0",
          "state": {
            "_model_module": "@jupyter-widgets/base",
            "_model_module_version": "1.2.0",
            "_model_name": "LayoutModel",
            "_view_count": null,
            "_view_module": "@jupyter-widgets/base",
            "_view_module_version": "1.2.0",
            "_view_name": "LayoutView",
            "align_content": null,
            "align_items": null,
            "align_self": null,
            "border": null,
            "bottom": null,
            "display": null,
            "flex": null,
            "flex_flow": null,
            "grid_area": null,
            "grid_auto_columns": null,
            "grid_auto_flow": null,
            "grid_auto_rows": null,
            "grid_column": null,
            "grid_gap": null,
            "grid_row": null,
            "grid_template_areas": null,
            "grid_template_columns": null,
            "grid_template_rows": null,
            "height": null,
            "justify_content": null,
            "justify_items": null,
            "left": null,
            "margin": null,
            "max_height": null,
            "max_width": null,
            "min_height": null,
            "min_width": null,
            "object_fit": null,
            "object_position": null,
            "order": null,
            "overflow": null,
            "overflow_x": null,
            "overflow_y": null,
            "padding": null,
            "right": null,
            "top": null,
            "visibility": null,
            "width": null
          }
        },
        "4158fa7061fe4139824f66e007103959": {
          "model_module": "@jupyter-widgets/controls",
          "model_name": "DescriptionStyleModel",
          "model_module_version": "1.5.0",
          "state": {
            "_model_module": "@jupyter-widgets/controls",
            "_model_module_version": "1.5.0",
            "_model_name": "DescriptionStyleModel",
            "_view_count": null,
            "_view_module": "@jupyter-widgets/base",
            "_view_module_version": "1.2.0",
            "_view_name": "StyleView",
            "description_width": ""
          }
        }
      }
    }
  },
  "nbformat": 4,
  "nbformat_minor": 0
}